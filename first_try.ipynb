{
 "cells": [
  {
   "cell_type": "code",
   "execution_count": 1,
   "metadata": {},
   "outputs": [],
   "source": [
    "import pandas as pd\n",
    "import numpy as np\n",
    "import matplotlib.pyplot as plt"
   ]
  },
  {
   "cell_type": "code",
   "execution_count": 2,
   "metadata": {},
   "outputs": [],
   "source": [
    "demand_data = pd.read_csv('data/dataset/demand.csv')\n",
    "vehicle_data = pd.read_csv('data/dataset/vehicles.csv')\n",
    "vehicle_fuels = pd.read_csv('data/dataset/vehicles_fuels.csv')\n",
    "fuels_data = pd.read_csv('data/dataset/fuels.csv')\n",
    "carbon_emissions_data = pd.read_csv('data/dataset/carbon_emissions.csv')\n",
    "cost_profiles = pd.read_csv('data/dataset/cost_profiles.csv')"
   ]
  },
  {
   "cell_type": "code",
   "execution_count": 3,
   "metadata": {},
   "outputs": [
    {
     "data": {
      "text/html": [
       "<div>\n",
       "<style scoped>\n",
       "    .dataframe tbody tr th:only-of-type {\n",
       "        vertical-align: middle;\n",
       "    }\n",
       "\n",
       "    .dataframe tbody tr th {\n",
       "        vertical-align: top;\n",
       "    }\n",
       "\n",
       "    .dataframe thead th {\n",
       "        text-align: right;\n",
       "    }\n",
       "</style>\n",
       "<table border=\"1\" class=\"dataframe\">\n",
       "  <thead>\n",
       "    <tr style=\"text-align: right;\">\n",
       "      <th></th>\n",
       "      <th>ID</th>\n",
       "      <th>Vehicle</th>\n",
       "      <th>Size</th>\n",
       "      <th>Year</th>\n",
       "      <th>Cost ($)</th>\n",
       "      <th>Yearly range (km)</th>\n",
       "      <th>Distance</th>\n",
       "    </tr>\n",
       "  </thead>\n",
       "  <tbody>\n",
       "    <tr>\n",
       "      <th>0</th>\n",
       "      <td>BEV_S1_2023</td>\n",
       "      <td>BEV</td>\n",
       "      <td>S1</td>\n",
       "      <td>2023</td>\n",
       "      <td>187000</td>\n",
       "      <td>102000</td>\n",
       "      <td>D1</td>\n",
       "    </tr>\n",
       "    <tr>\n",
       "      <th>1</th>\n",
       "      <td>BEV_S1_2024</td>\n",
       "      <td>BEV</td>\n",
       "      <td>S1</td>\n",
       "      <td>2024</td>\n",
       "      <td>177650</td>\n",
       "      <td>102000</td>\n",
       "      <td>D1</td>\n",
       "    </tr>\n",
       "    <tr>\n",
       "      <th>2</th>\n",
       "      <td>BEV_S1_2025</td>\n",
       "      <td>BEV</td>\n",
       "      <td>S1</td>\n",
       "      <td>2025</td>\n",
       "      <td>168767</td>\n",
       "      <td>102000</td>\n",
       "      <td>D1</td>\n",
       "    </tr>\n",
       "    <tr>\n",
       "      <th>3</th>\n",
       "      <td>BEV_S1_2026</td>\n",
       "      <td>BEV</td>\n",
       "      <td>S1</td>\n",
       "      <td>2026</td>\n",
       "      <td>160329</td>\n",
       "      <td>102000</td>\n",
       "      <td>D2</td>\n",
       "    </tr>\n",
       "    <tr>\n",
       "      <th>4</th>\n",
       "      <td>BEV_S1_2027</td>\n",
       "      <td>BEV</td>\n",
       "      <td>S1</td>\n",
       "      <td>2027</td>\n",
       "      <td>152312</td>\n",
       "      <td>102000</td>\n",
       "      <td>D2</td>\n",
       "    </tr>\n",
       "    <tr>\n",
       "      <th>...</th>\n",
       "      <td>...</td>\n",
       "      <td>...</td>\n",
       "      <td>...</td>\n",
       "      <td>...</td>\n",
       "      <td>...</td>\n",
       "      <td>...</td>\n",
       "      <td>...</td>\n",
       "    </tr>\n",
       "    <tr>\n",
       "      <th>187</th>\n",
       "      <td>LNG_S3_2034</td>\n",
       "      <td>LNG</td>\n",
       "      <td>S3</td>\n",
       "      <td>2034</td>\n",
       "      <td>209208</td>\n",
       "      <td>73000</td>\n",
       "      <td>D4</td>\n",
       "    </tr>\n",
       "    <tr>\n",
       "      <th>188</th>\n",
       "      <td>LNG_S3_2035</td>\n",
       "      <td>LNG</td>\n",
       "      <td>S3</td>\n",
       "      <td>2035</td>\n",
       "      <td>215484</td>\n",
       "      <td>73000</td>\n",
       "      <td>D4</td>\n",
       "    </tr>\n",
       "    <tr>\n",
       "      <th>189</th>\n",
       "      <td>LNG_S3_2036</td>\n",
       "      <td>LNG</td>\n",
       "      <td>S3</td>\n",
       "      <td>2036</td>\n",
       "      <td>221948</td>\n",
       "      <td>73000</td>\n",
       "      <td>D4</td>\n",
       "    </tr>\n",
       "    <tr>\n",
       "      <th>190</th>\n",
       "      <td>LNG_S3_2037</td>\n",
       "      <td>LNG</td>\n",
       "      <td>S3</td>\n",
       "      <td>2037</td>\n",
       "      <td>228607</td>\n",
       "      <td>73000</td>\n",
       "      <td>D4</td>\n",
       "    </tr>\n",
       "    <tr>\n",
       "      <th>191</th>\n",
       "      <td>LNG_S3_2038</td>\n",
       "      <td>LNG</td>\n",
       "      <td>S3</td>\n",
       "      <td>2038</td>\n",
       "      <td>235465</td>\n",
       "      <td>73000</td>\n",
       "      <td>D4</td>\n",
       "    </tr>\n",
       "  </tbody>\n",
       "</table>\n",
       "<p>192 rows × 7 columns</p>\n",
       "</div>"
      ],
      "text/plain": [
       "              ID Vehicle Size  Year  Cost ($)  Yearly range (km) Distance\n",
       "0    BEV_S1_2023     BEV   S1  2023    187000             102000       D1\n",
       "1    BEV_S1_2024     BEV   S1  2024    177650             102000       D1\n",
       "2    BEV_S1_2025     BEV   S1  2025    168767             102000       D1\n",
       "3    BEV_S1_2026     BEV   S1  2026    160329             102000       D2\n",
       "4    BEV_S1_2027     BEV   S1  2027    152312             102000       D2\n",
       "..           ...     ...  ...   ...       ...                ...      ...\n",
       "187  LNG_S3_2034     LNG   S3  2034    209208              73000       D4\n",
       "188  LNG_S3_2035     LNG   S3  2035    215484              73000       D4\n",
       "189  LNG_S3_2036     LNG   S3  2036    221948              73000       D4\n",
       "190  LNG_S3_2037     LNG   S3  2037    228607              73000       D4\n",
       "191  LNG_S3_2038     LNG   S3  2038    235465              73000       D4\n",
       "\n",
       "[192 rows x 7 columns]"
      ]
     },
     "execution_count": 3,
     "metadata": {},
     "output_type": "execute_result"
    }
   ],
   "source": [
    "vehicle_data"
   ]
  },
  {
   "cell_type": "code",
   "execution_count": 4,
   "metadata": {},
   "outputs": [
    {
     "data": {
      "text/html": [
       "<div>\n",
       "<style scoped>\n",
       "    .dataframe tbody tr th:only-of-type {\n",
       "        vertical-align: middle;\n",
       "    }\n",
       "\n",
       "    .dataframe tbody tr th {\n",
       "        vertical-align: top;\n",
       "    }\n",
       "\n",
       "    .dataframe thead th {\n",
       "        text-align: right;\n",
       "    }\n",
       "</style>\n",
       "<table border=\"1\" class=\"dataframe\">\n",
       "  <thead>\n",
       "    <tr style=\"text-align: right;\">\n",
       "      <th></th>\n",
       "      <th>ID</th>\n",
       "      <th>Vehicle</th>\n",
       "      <th>Size</th>\n",
       "      <th>Year</th>\n",
       "      <th>Cost ($)</th>\n",
       "      <th>Yearly range (km)</th>\n",
       "      <th>Distance</th>\n",
       "    </tr>\n",
       "  </thead>\n",
       "  <tbody>\n",
       "    <tr>\n",
       "      <th>0</th>\n",
       "      <td>BEV_S1_2023</td>\n",
       "      <td>BEV</td>\n",
       "      <td>S1</td>\n",
       "      <td>2023</td>\n",
       "      <td>187000</td>\n",
       "      <td>102000</td>\n",
       "      <td>D1</td>\n",
       "    </tr>\n",
       "    <tr>\n",
       "      <th>64</th>\n",
       "      <td>Diesel_S1_2023</td>\n",
       "      <td>Diesel</td>\n",
       "      <td>S1</td>\n",
       "      <td>2023</td>\n",
       "      <td>85000</td>\n",
       "      <td>102000</td>\n",
       "      <td>D4</td>\n",
       "    </tr>\n",
       "    <tr>\n",
       "      <th>128</th>\n",
       "      <td>LNG_S1_2023</td>\n",
       "      <td>LNG</td>\n",
       "      <td>S1</td>\n",
       "      <td>2023</td>\n",
       "      <td>100000</td>\n",
       "      <td>102000</td>\n",
       "      <td>D4</td>\n",
       "    </tr>\n",
       "  </tbody>\n",
       "</table>\n",
       "</div>"
      ],
      "text/plain": [
       "                 ID Vehicle Size  Year  Cost ($)  Yearly range (km) Distance\n",
       "0       BEV_S1_2023     BEV   S1  2023    187000             102000       D1\n",
       "64   Diesel_S1_2023  Diesel   S1  2023     85000             102000       D4\n",
       "128     LNG_S1_2023     LNG   S1  2023    100000             102000       D4"
      ]
     },
     "execution_count": 4,
     "metadata": {},
     "output_type": "execute_result"
    }
   ],
   "source": [
    "#cari feasible vehicle\n",
    "yr = 2023\n",
    "size = 'S1'\n",
    "distance = 'D1'\n",
    "demand_km = 869181\n",
    "\n",
    "feasible_vehicle = vehicle_data.loc[(vehicle_data['Year'] == yr) & (vehicle_data['Size'] == size)]\n",
    "if distance == 'D2':\n",
    "    feasible_vehicle = feasible_vehicle.loc[feasible_vehicle['Distance'] != 'D1']\n",
    "elif distance == 'D3':\n",
    "    feasible_vehicle = feasible_vehicle.loc[(feasible_vehicle['Distance'] == 'D3') & (feasible_vehicle['Distance'] == 'D4')]\n",
    "elif distance == 'D4':\n",
    "    feasible_vehicle = feasible_vehicle.loc[(feasible_vehicle['Distance'] == 'D4')]\n",
    "feasible_vehicle"
   ]
  },
  {
   "cell_type": "code",
   "execution_count": 5,
   "metadata": {},
   "outputs": [
    {
     "data": {
      "text/html": [
       "<div>\n",
       "<style scoped>\n",
       "    .dataframe tbody tr th:only-of-type {\n",
       "        vertical-align: middle;\n",
       "    }\n",
       "\n",
       "    .dataframe tbody tr th {\n",
       "        vertical-align: top;\n",
       "    }\n",
       "\n",
       "    .dataframe thead th {\n",
       "        text-align: right;\n",
       "    }\n",
       "</style>\n",
       "<table border=\"1\" class=\"dataframe\">\n",
       "  <thead>\n",
       "    <tr style=\"text-align: right;\">\n",
       "      <th></th>\n",
       "      <th>ID</th>\n",
       "      <th>Fuel</th>\n",
       "      <th>Consumption (unit_fuel/km)</th>\n",
       "    </tr>\n",
       "  </thead>\n",
       "  <tbody>\n",
       "    <tr>\n",
       "      <th>0</th>\n",
       "      <td>BEV_S1_2023</td>\n",
       "      <td>Electricity</td>\n",
       "      <td>0.893043</td>\n",
       "    </tr>\n",
       "    <tr>\n",
       "      <th>16</th>\n",
       "      <td>Diesel_S1_2023</td>\n",
       "      <td>B20</td>\n",
       "      <td>0.223016</td>\n",
       "    </tr>\n",
       "    <tr>\n",
       "      <th>32</th>\n",
       "      <td>Diesel_S1_2023</td>\n",
       "      <td>HVO</td>\n",
       "      <td>0.223016</td>\n",
       "    </tr>\n",
       "    <tr>\n",
       "      <th>48</th>\n",
       "      <td>LNG_S1_2023</td>\n",
       "      <td>LNG</td>\n",
       "      <td>0.165507</td>\n",
       "    </tr>\n",
       "    <tr>\n",
       "      <th>64</th>\n",
       "      <td>LNG_S1_2023</td>\n",
       "      <td>BioLNG</td>\n",
       "      <td>0.165159</td>\n",
       "    </tr>\n",
       "  </tbody>\n",
       "</table>\n",
       "</div>"
      ],
      "text/plain": [
       "                ID         Fuel  Consumption (unit_fuel/km)\n",
       "0      BEV_S1_2023  Electricity                    0.893043\n",
       "16  Diesel_S1_2023          B20                    0.223016\n",
       "32  Diesel_S1_2023          HVO                    0.223016\n",
       "48     LNG_S1_2023          LNG                    0.165507\n",
       "64     LNG_S1_2023       BioLNG                    0.165159"
      ]
     },
     "execution_count": 5,
     "metadata": {},
     "output_type": "execute_result"
    }
   ],
   "source": [
    "vehicle_used_fuel = pd.DataFrame({})\n",
    "\n",
    "for veh_id in feasible_vehicle['ID']:\n",
    "    vehicle_used_fuel = pd.concat([vehicle_used_fuel,vehicle_fuels.loc[vehicle_fuels['ID'] == veh_id]])\n",
    "vehicle_used_fuel"
   ]
  },
  {
   "cell_type": "code",
   "execution_count": 10,
   "metadata": {},
   "outputs": [
    {
     "data": {
      "text/plain": [
       "7         NaN\n",
       "23       35.0\n",
       "39     3519.0\n",
       "55     3897.0\n",
       "71     5320.0\n",
       "87     1588.0\n",
       "103     286.0\n",
       "119    7243.0\n",
       "135    6412.0\n",
       "151    1149.0\n",
       "167    5015.0\n",
       "183    1331.0\n",
       "199    7457.0\n",
       "215    3211.0\n",
       "231    6593.0\n",
       "247    4156.0\n",
       "Name: Demand (km), dtype: float64"
      ]
     },
     "execution_count": 10,
     "metadata": {},
     "output_type": "execute_result"
    }
   ],
   "source": [
    "s = ['S1','S2','S3','S4']\n",
    "d = ['D1','D2','D3','D4']\n",
    "\n",
    "temp_df = demand_data.loc[(demand_data['Size'] == s[1]) & (demand_data['Distance'] == d[3])]\n",
    "temp_df['Demand (km)'].diff()"
   ]
  },
  {
   "cell_type": "code",
   "execution_count": 11,
   "metadata": {},
   "outputs": [
    {
     "name": "stderr",
     "output_type": "stream",
     "text": [
      "C:\\Users\\asus\\AppData\\Local\\Temp\\ipykernel_9604\\789136981.py:12: UserWarning: Matplotlib is currently using module://matplotlib_inline.backend_inline, which is a non-GUI backend, so cannot show the figure.\n",
      "  fig.show()\n"
     ]
    },
    {
     "data": {
      "image/png": "[encoded data removed]",
      "text/plain": [
       "<Figure size 1600x900 with 16 Axes>"
      ]
     },
     "metadata": {},
     "output_type": "display_data"
    }
   ],
   "source": [
    "fig, axs = plt.subplots(4, 4)\n",
    "fig.set_size_inches(16,9)\n",
    "\n",
    "s = ['S1','S2','S3','S4']\n",
    "d = ['D1','D2','D3','D4']\n",
    "for i in range(4):\n",
    "    for j in range(4):\n",
    "        temp_df = demand_data.loc[(demand_data['Size'] == s[i]) & (demand_data['Distance'] == d[j])]\n",
    "        temp_df_diff = temp_df['Demand (km)'].diff()\n",
    "        axs[i,j].bar(temp_df['Year'], temp_df_diff)\n",
    "        axs[i,j].set_title(s[i] + ' and ' + d[j])\n",
    "fig.show()"
   ]
  },
  {
   "cell_type": "code",
   "execution_count": 12,
   "metadata": {},
   "outputs": [
    {
     "name": "stderr",
     "output_type": "stream",
     "text": [
      "C:\\Users\\asus\\AppData\\Local\\Temp\\ipykernel_9604\\199247444.py:12: UserWarning: Matplotlib is currently using module://matplotlib_inline.backend_inline, which is a non-GUI backend, so cannot show the figure.\n",
      "  fig.show()\n"
     ]
    },
    {
     "data": {
      "image/png": "[encoded data removed]",
      "text/plain": [
       "<Figure size 1600x900 with 16 Axes>"
      ]
     },
     "metadata": {},
     "output_type": "display_data"
    }
   ],
   "source": [
    "fig, axs = plt.subplots(4, 4)\n",
    "fig.set_size_inches(16,9)\n",
    "\n",
    "s = ['S1','S2','S3','S4']\n",
    "d = ['D1','D2','D3','D4']\n",
    "for i in range(4):\n",
    "    for j in range(4):\n",
    "        temp_df = demand_data.loc[(demand_data['Size'] == s[i]) & (demand_data['Distance'] == d[j])]\n",
    "        # temp_df_diff = temp_df['Demand (km)'].diff()\n",
    "        axs[i,j].bar(temp_df['Year'], temp_df['Demand (km)'] - temp_df['Demand (km)'].iloc[0])\n",
    "        axs[i,j].set_title(s[i] + ' and ' + d[j])\n",
    "fig.show()"
   ]
  },
  {
   "cell_type": "code",
   "execution_count": 6,
   "metadata": {},
   "outputs": [
    {
     "name": "stderr",
     "output_type": "stream",
     "text": [
      "C:\\Users\\asus\\AppData\\Local\\Temp\\ipykernel_22104\\625084029.py:11: UserWarning: Matplotlib is currently using module://matplotlib_inline.backend_inline, which is a non-GUI backend, so cannot show the figure.\n",
      "  fig.show()\n"
     ]
    },
    {
     "data": {
      "image/png": "[encoded data removed]",
      "text/plain": [
       "<Figure size 1600x900 with 16 Axes>"
      ]
     },
     "metadata": {},
     "output_type": "display_data"
    }
   ],
   "source": [
    "fig, axs = plt.subplots(4, 4)\n",
    "fig.set_size_inches(16,9)\n",
    "\n",
    "s = ['S1','S2','S3','S4']\n",
    "d = ['D1','D2','D3','D4']\n",
    "for i in range(4):\n",
    "    for j in range(4):\n",
    "        temp_df = demand_data.loc[(demand_data['Size'] == s[i]) & (demand_data['Distance'] == d[j])]\n",
    "        axs[i,j].bar(temp_df['Year'], temp_df['Demand (km)'])\n",
    "        axs[i,j].set_title(s[i] + ' and ' + d[j])\n",
    "fig.show()"
   ]
  },
  {
   "cell_type": "code",
   "execution_count": 7,
   "metadata": {},
   "outputs": [
    {
     "name": "stderr",
     "output_type": "stream",
     "text": [
      "C:\\Users\\asus\\AppData\\Local\\Temp\\ipykernel_22104\\1871261366.py:6: UserWarning: Matplotlib is currently using module://matplotlib_inline.backend_inline, which is a non-GUI backend, so cannot show the figure.\n",
      "  fig2.show()\n"
     ]
    },
    {
     "data": {
      "image/png": "[encoded data removed]",
      "text/plain": [
       "<Figure size 640x480 with 4 Axes>"
      ]
     },
     "metadata": {},
     "output_type": "display_data"
    }
   ],
   "source": [
    "fig2, axs2 = plt.subplots(4)\n",
    "for i in range(4):\n",
    "    temp_df = vehicle_data.loc[vehicle_data['Size'] == s[i]]\n",
    "    axs2[i].bar(temp_df['Distance'], temp_df['Cost ($)'])\n",
    "\n",
    "fig2.show()"
   ]
  },
  {
   "cell_type": "code",
   "execution_count": 8,
   "metadata": {},
   "outputs": [
    {
     "data": {
      "text/html": [
       "<div>\n",
       "<style scoped>\n",
       "    .dataframe tbody tr th:only-of-type {\n",
       "        vertical-align: middle;\n",
       "    }\n",
       "\n",
       "    .dataframe tbody tr th {\n",
       "        vertical-align: top;\n",
       "    }\n",
       "\n",
       "    .dataframe thead th {\n",
       "        text-align: right;\n",
       "    }\n",
       "</style>\n",
       "<table border=\"1\" class=\"dataframe\">\n",
       "  <thead>\n",
       "    <tr style=\"text-align: right;\">\n",
       "      <th></th>\n",
       "      <th>ID</th>\n",
       "      <th>Fuel</th>\n",
       "      <th>Consumption (unit_fuel/km)</th>\n",
       "    </tr>\n",
       "  </thead>\n",
       "  <tbody>\n",
       "    <tr>\n",
       "      <th>0</th>\n",
       "      <td>BEV_S1_2023</td>\n",
       "      <td>Electricity</td>\n",
       "      <td>0.893043</td>\n",
       "    </tr>\n",
       "    <tr>\n",
       "      <th>1</th>\n",
       "      <td>BEV_S1_2024</td>\n",
       "      <td>Electricity</td>\n",
       "      <td>0.893043</td>\n",
       "    </tr>\n",
       "    <tr>\n",
       "      <th>2</th>\n",
       "      <td>BEV_S1_2025</td>\n",
       "      <td>Electricity</td>\n",
       "      <td>0.893043</td>\n",
       "    </tr>\n",
       "    <tr>\n",
       "      <th>3</th>\n",
       "      <td>BEV_S1_2026</td>\n",
       "      <td>Electricity</td>\n",
       "      <td>0.893043</td>\n",
       "    </tr>\n",
       "    <tr>\n",
       "      <th>4</th>\n",
       "      <td>BEV_S1_2027</td>\n",
       "      <td>Electricity</td>\n",
       "      <td>0.868161</td>\n",
       "    </tr>\n",
       "    <tr>\n",
       "      <th>...</th>\n",
       "      <td>...</td>\n",
       "      <td>...</td>\n",
       "      <td>...</td>\n",
       "    </tr>\n",
       "    <tr>\n",
       "      <th>315</th>\n",
       "      <td>LNG_S3_2034</td>\n",
       "      <td>BioLNG</td>\n",
       "      <td>0.155192</td>\n",
       "    </tr>\n",
       "    <tr>\n",
       "      <th>316</th>\n",
       "      <td>LNG_S3_2035</td>\n",
       "      <td>BioLNG</td>\n",
       "      <td>0.155192</td>\n",
       "    </tr>\n",
       "    <tr>\n",
       "      <th>317</th>\n",
       "      <td>LNG_S3_2036</td>\n",
       "      <td>BioLNG</td>\n",
       "      <td>0.155192</td>\n",
       "    </tr>\n",
       "    <tr>\n",
       "      <th>318</th>\n",
       "      <td>LNG_S3_2037</td>\n",
       "      <td>BioLNG</td>\n",
       "      <td>0.155192</td>\n",
       "    </tr>\n",
       "    <tr>\n",
       "      <th>319</th>\n",
       "      <td>LNG_S3_2038</td>\n",
       "      <td>BioLNG</td>\n",
       "      <td>0.155192</td>\n",
       "    </tr>\n",
       "  </tbody>\n",
       "</table>\n",
       "<p>320 rows × 3 columns</p>\n",
       "</div>"
      ],
      "text/plain": [
       "              ID         Fuel  Consumption (unit_fuel/km)\n",
       "0    BEV_S1_2023  Electricity                    0.893043\n",
       "1    BEV_S1_2024  Electricity                    0.893043\n",
       "2    BEV_S1_2025  Electricity                    0.893043\n",
       "3    BEV_S1_2026  Electricity                    0.893043\n",
       "4    BEV_S1_2027  Electricity                    0.868161\n",
       "..           ...          ...                         ...\n",
       "315  LNG_S3_2034       BioLNG                    0.155192\n",
       "316  LNG_S3_2035       BioLNG                    0.155192\n",
       "317  LNG_S3_2036       BioLNG                    0.155192\n",
       "318  LNG_S3_2037       BioLNG                    0.155192\n",
       "319  LNG_S3_2038       BioLNG                    0.155192\n",
       "\n",
       "[320 rows x 3 columns]"
      ]
     },
     "execution_count": 8,
     "metadata": {},
     "output_type": "execute_result"
    }
   ],
   "source": [
    "vehicle_fuels"
   ]
  },
  {
   "cell_type": "code",
   "execution_count": 9,
   "metadata": {},
   "outputs": [
    {
     "data": {
      "text/html": [
       "<div>\n",
       "<style scoped>\n",
       "    .dataframe tbody tr th:only-of-type {\n",
       "        vertical-align: middle;\n",
       "    }\n",
       "\n",
       "    .dataframe tbody tr th {\n",
       "        vertical-align: top;\n",
       "    }\n",
       "\n",
       "    .dataframe thead th {\n",
       "        text-align: right;\n",
       "    }\n",
       "</style>\n",
       "<table border=\"1\" class=\"dataframe\">\n",
       "  <thead>\n",
       "    <tr style=\"text-align: right;\">\n",
       "      <th></th>\n",
       "      <th>ID</th>\n",
       "      <th>Fuel</th>\n",
       "      <th>Consumption (unit_fuel/km)</th>\n",
       "    </tr>\n",
       "  </thead>\n",
       "  <tbody>\n",
       "    <tr>\n",
       "      <th>0</th>\n",
       "      <td>BEV_S1_2023</td>\n",
       "      <td>Electricity</td>\n",
       "      <td>0.893043</td>\n",
       "    </tr>\n",
       "    <tr>\n",
       "      <th>1</th>\n",
       "      <td>BEV_S1_2024</td>\n",
       "      <td>Electricity</td>\n",
       "      <td>0.893043</td>\n",
       "    </tr>\n",
       "    <tr>\n",
       "      <th>2</th>\n",
       "      <td>BEV_S1_2025</td>\n",
       "      <td>Electricity</td>\n",
       "      <td>0.893043</td>\n",
       "    </tr>\n",
       "    <tr>\n",
       "      <th>3</th>\n",
       "      <td>BEV_S1_2026</td>\n",
       "      <td>Electricity</td>\n",
       "      <td>0.893043</td>\n",
       "    </tr>\n",
       "    <tr>\n",
       "      <th>4</th>\n",
       "      <td>BEV_S1_2027</td>\n",
       "      <td>Electricity</td>\n",
       "      <td>0.868161</td>\n",
       "    </tr>\n",
       "    <tr>\n",
       "      <th>...</th>\n",
       "      <td>...</td>\n",
       "      <td>...</td>\n",
       "      <td>...</td>\n",
       "    </tr>\n",
       "    <tr>\n",
       "      <th>315</th>\n",
       "      <td>LNG_S3_2034</td>\n",
       "      <td>BioLNG</td>\n",
       "      <td>0.155192</td>\n",
       "    </tr>\n",
       "    <tr>\n",
       "      <th>316</th>\n",
       "      <td>LNG_S3_2035</td>\n",
       "      <td>BioLNG</td>\n",
       "      <td>0.155192</td>\n",
       "    </tr>\n",
       "    <tr>\n",
       "      <th>317</th>\n",
       "      <td>LNG_S3_2036</td>\n",
       "      <td>BioLNG</td>\n",
       "      <td>0.155192</td>\n",
       "    </tr>\n",
       "    <tr>\n",
       "      <th>318</th>\n",
       "      <td>LNG_S3_2037</td>\n",
       "      <td>BioLNG</td>\n",
       "      <td>0.155192</td>\n",
       "    </tr>\n",
       "    <tr>\n",
       "      <th>319</th>\n",
       "      <td>LNG_S3_2038</td>\n",
       "      <td>BioLNG</td>\n",
       "      <td>0.155192</td>\n",
       "    </tr>\n",
       "  </tbody>\n",
       "</table>\n",
       "<p>320 rows × 3 columns</p>\n",
       "</div>"
      ],
      "text/plain": [
       "              ID         Fuel  Consumption (unit_fuel/km)\n",
       "0    BEV_S1_2023  Electricity                    0.893043\n",
       "1    BEV_S1_2024  Electricity                    0.893043\n",
       "2    BEV_S1_2025  Electricity                    0.893043\n",
       "3    BEV_S1_2026  Electricity                    0.893043\n",
       "4    BEV_S1_2027  Electricity                    0.868161\n",
       "..           ...          ...                         ...\n",
       "315  LNG_S3_2034       BioLNG                    0.155192\n",
       "316  LNG_S3_2035       BioLNG                    0.155192\n",
       "317  LNG_S3_2036       BioLNG                    0.155192\n",
       "318  LNG_S3_2037       BioLNG                    0.155192\n",
       "319  LNG_S3_2038       BioLNG                    0.155192\n",
       "\n",
       "[320 rows x 3 columns]"
      ]
     },
     "execution_count": 9,
     "metadata": {},
     "output_type": "execute_result"
    }
   ],
   "source": [
    "vehicle_fuels"
   ]
  },
  {
   "cell_type": "code",
   "execution_count": 17,
   "metadata": {},
   "outputs": [
    {
     "ename": "KeyboardInterrupt",
     "evalue": "",
     "output_type": "error",
     "traceback": [
      "\u001b[1;31m---------------------------------------------------------------------------\u001b[0m",
      "\u001b[1;31mKeyboardInterrupt\u001b[0m                         Traceback (most recent call last)",
      "Cell \u001b[1;32mIn[17], line 10\u001b[0m\n\u001b[0;32m      8\u001b[0m avg_cost \u001b[38;5;241m=\u001b[39m np\u001b[38;5;241m.\u001b[39maverage(temp_df[\u001b[38;5;124m'\u001b[39m\u001b[38;5;124mCost ($/unit_fuel)\u001b[39m\u001b[38;5;124m'\u001b[39m])\n\u001b[0;32m      9\u001b[0m avg_consumption \u001b[38;5;241m=\u001b[39m np\u001b[38;5;241m.\u001b[39maverage(temp_df2[\u001b[38;5;124m'\u001b[39m\u001b[38;5;124mConsumption (unit_fuel/km)\u001b[39m\u001b[38;5;124m'\u001b[39m])\n\u001b[1;32m---> 10\u001b[0m arr_cost_fuel\u001b[38;5;241m.\u001b[39mappend(vehicle_data[\u001b[38;5;124m'\u001b[39m\u001b[38;5;124mYearly range (km)\u001b[39m\u001b[38;5;124m'\u001b[39m]\u001b[38;5;241m.\u001b[39miloc[i]\u001b[38;5;241m*\u001b[39mavg_cost\u001b[38;5;241m*\u001b[39mavg_consumption)\n\u001b[0;32m     11\u001b[0m arr_fuel\u001b[38;5;241m.\u001b[39mappend(fuel)\n",
      "Cell \u001b[1;32mIn[17], line 10\u001b[0m\n\u001b[0;32m      8\u001b[0m avg_cost \u001b[38;5;241m=\u001b[39m np\u001b[38;5;241m.\u001b[39maverage(temp_df[\u001b[38;5;124m'\u001b[39m\u001b[38;5;124mCost ($/unit_fuel)\u001b[39m\u001b[38;5;124m'\u001b[39m])\n\u001b[0;32m      9\u001b[0m avg_consumption \u001b[38;5;241m=\u001b[39m np\u001b[38;5;241m.\u001b[39maverage(temp_df2[\u001b[38;5;124m'\u001b[39m\u001b[38;5;124mConsumption (unit_fuel/km)\u001b[39m\u001b[38;5;124m'\u001b[39m])\n\u001b[1;32m---> 10\u001b[0m arr_cost_fuel\u001b[38;5;241m.\u001b[39mappend(vehicle_data[\u001b[38;5;124m'\u001b[39m\u001b[38;5;124mYearly range (km)\u001b[39m\u001b[38;5;124m'\u001b[39m]\u001b[38;5;241m.\u001b[39miloc[i]\u001b[38;5;241m*\u001b[39mavg_cost\u001b[38;5;241m*\u001b[39mavg_consumption)\n\u001b[0;32m     11\u001b[0m arr_fuel\u001b[38;5;241m.\u001b[39mappend(fuel)\n",
      "File \u001b[1;32m_pydevd_bundle/pydevd_cython.pyx:1457\u001b[0m, in \u001b[0;36m_pydevd_bundle.pydevd_cython.SafeCallWrapper.__call__\u001b[1;34m()\u001b[0m\n",
      "File \u001b[1;32m_pydevd_bundle/pydevd_cython.pyx:701\u001b[0m, in \u001b[0;36m_pydevd_bundle.pydevd_cython.PyDBFrame.trace_dispatch\u001b[1;34m()\u001b[0m\n",
      "File \u001b[1;32m_pydevd_bundle/pydevd_cython.pyx:1395\u001b[0m, in \u001b[0;36m_pydevd_bundle.pydevd_cython.PyDBFrame.trace_dispatch\u001b[1;34m()\u001b[0m\n",
      "File \u001b[1;32m_pydevd_bundle/pydevd_cython.pyx:1344\u001b[0m, in \u001b[0;36m_pydevd_bundle.pydevd_cython.PyDBFrame.trace_dispatch\u001b[1;34m()\u001b[0m\n",
      "File \u001b[1;32m_pydevd_bundle/pydevd_cython.pyx:312\u001b[0m, in \u001b[0;36m_pydevd_bundle.pydevd_cython.PyDBFrame.do_wait_suspend\u001b[1;34m()\u001b[0m\n",
      "File \u001b[1;32me:\\Anaconda\\Lib\\site-packages\\debugpy\\_vendored\\pydevd\\pydevd.py:2070\u001b[0m, in \u001b[0;36mPyDB.do_wait_suspend\u001b[1;34m(self, thread, frame, event, arg, exception_type)\u001b[0m\n\u001b[0;32m   2067\u001b[0m             from_this_thread\u001b[38;5;241m.\u001b[39mappend(frame_custom_thread_id)\n\u001b[0;32m   2069\u001b[0m     \u001b[38;5;28;01mwith\u001b[39;00m \u001b[38;5;28mself\u001b[39m\u001b[38;5;241m.\u001b[39m_threads_suspended_single_notification\u001b[38;5;241m.\u001b[39mnotify_thread_suspended(thread_id, thread, stop_reason):\n\u001b[1;32m-> 2070\u001b[0m         keep_suspended \u001b[38;5;241m=\u001b[39m \u001b[38;5;28mself\u001b[39m\u001b[38;5;241m.\u001b[39m_do_wait_suspend(thread, frame, event, arg, suspend_type, from_this_thread, frames_tracker)\n\u001b[0;32m   2072\u001b[0m frames_list \u001b[38;5;241m=\u001b[39m \u001b[38;5;28;01mNone\u001b[39;00m\n\u001b[0;32m   2074\u001b[0m \u001b[38;5;28;01mif\u001b[39;00m keep_suspended:\n\u001b[0;32m   2075\u001b[0m     \u001b[38;5;66;03m# This means that we should pause again after a set next statement.\u001b[39;00m\n",
      "File \u001b[1;32me:\\Anaconda\\Lib\\site-packages\\debugpy\\_vendored\\pydevd\\pydevd.py:2106\u001b[0m, in \u001b[0;36mPyDB._do_wait_suspend\u001b[1;34m(self, thread, frame, event, arg, suspend_type, from_this_thread, frames_tracker)\u001b[0m\n\u001b[0;32m   2103\u001b[0m         \u001b[38;5;28mself\u001b[39m\u001b[38;5;241m.\u001b[39m_call_input_hook()\n\u001b[0;32m   2105\u001b[0m     \u001b[38;5;28mself\u001b[39m\u001b[38;5;241m.\u001b[39mprocess_internal_commands()\n\u001b[1;32m-> 2106\u001b[0m     time\u001b[38;5;241m.\u001b[39msleep(\u001b[38;5;241m0.01\u001b[39m)\n\u001b[0;32m   2108\u001b[0m \u001b[38;5;28mself\u001b[39m\u001b[38;5;241m.\u001b[39mcancel_async_evaluation(get_current_thread_id(thread), \u001b[38;5;28mstr\u001b[39m(\u001b[38;5;28mid\u001b[39m(frame)))\n\u001b[0;32m   2110\u001b[0m \u001b[38;5;66;03m# process any stepping instructions\u001b[39;00m\n",
      "\u001b[1;31mKeyboardInterrupt\u001b[0m: "
     ]
    }
   ],
   "source": [
    "arr_cost_fuel = []\n",
    "arr_fuel = []\n",
    "for i in range(len(vehicle_data['ID'])):\n",
    "    id = vehicle_data['ID'].iloc[i]\n",
    "    fuel = vehicle_fuels.loc[vehicle_fuels['ID'] == id]['Fuel'].iloc[0]\n",
    "    temp_df = fuels_data.loc[fuels_data['Fuel'] == fuel]\n",
    "    temp_df2 = vehicle_fuels.loc[(vehicle_fuels['ID'] == id) & (vehicle_fuels['Fuel'] == fuel)].iloc[0]\n",
    "    avg_cost = np.average(temp_df['Cost ($/unit_fuel)'])\n",
    "    avg_consumption = np.average(temp_df2['Consumption (unit_fuel/km)'])\n",
    "    arr_cost_fuel.append(vehicle_data['Yearly range (km)'].iloc[i]*avg_cost*avg_consumption)\n",
    "    arr_fuel.append(fuel)"
   ]
  },
  {
   "cell_type": "code",
   "execution_count": 11,
   "metadata": {},
   "outputs": [],
   "source": [
    "vehicle_data['fuel'] = arr_fuel\n",
    "vehicle_data['fuel_cost'] = arr_cost_fuel"
   ]
  },
  {
   "cell_type": "code",
   "execution_count": 15,
   "metadata": {},
   "outputs": [
    {
     "data": {
      "text/html": [
       "<div>\n",
       "<style scoped>\n",
       "    .dataframe tbody tr th:only-of-type {\n",
       "        vertical-align: middle;\n",
       "    }\n",
       "\n",
       "    .dataframe tbody tr th {\n",
       "        vertical-align: top;\n",
       "    }\n",
       "\n",
       "    .dataframe thead th {\n",
       "        text-align: right;\n",
       "    }\n",
       "</style>\n",
       "<table border=\"1\" class=\"dataframe\">\n",
       "  <thead>\n",
       "    <tr style=\"text-align: right;\">\n",
       "      <th></th>\n",
       "      <th>ID</th>\n",
       "      <th>Vehicle</th>\n",
       "      <th>Size</th>\n",
       "      <th>Year</th>\n",
       "      <th>Cost ($)</th>\n",
       "      <th>Yearly range (km)</th>\n",
       "      <th>Distance</th>\n",
       "      <th>fuel</th>\n",
       "      <th>fuel_cost</th>\n",
       "    </tr>\n",
       "  </thead>\n",
       "  <tbody>\n",
       "    <tr>\n",
       "      <th>0</th>\n",
       "      <td>BEV_S1_2023</td>\n",
       "      <td>BEV</td>\n",
       "      <td>S1</td>\n",
       "      <td>2023</td>\n",
       "      <td>187000</td>\n",
       "      <td>102000</td>\n",
       "      <td>D1</td>\n",
       "      <td>Electricity</td>\n",
       "      <td>13088.521373</td>\n",
       "    </tr>\n",
       "    <tr>\n",
       "      <th>1</th>\n",
       "      <td>BEV_S1_2024</td>\n",
       "      <td>BEV</td>\n",
       "      <td>S1</td>\n",
       "      <td>2024</td>\n",
       "      <td>177650</td>\n",
       "      <td>102000</td>\n",
       "      <td>D1</td>\n",
       "      <td>Electricity</td>\n",
       "      <td>13088.521373</td>\n",
       "    </tr>\n",
       "    <tr>\n",
       "      <th>2</th>\n",
       "      <td>BEV_S1_2025</td>\n",
       "      <td>BEV</td>\n",
       "      <td>S1</td>\n",
       "      <td>2025</td>\n",
       "      <td>168767</td>\n",
       "      <td>102000</td>\n",
       "      <td>D1</td>\n",
       "      <td>Electricity</td>\n",
       "      <td>13088.521373</td>\n",
       "    </tr>\n",
       "    <tr>\n",
       "      <th>3</th>\n",
       "      <td>BEV_S1_2026</td>\n",
       "      <td>BEV</td>\n",
       "      <td>S1</td>\n",
       "      <td>2026</td>\n",
       "      <td>160329</td>\n",
       "      <td>102000</td>\n",
       "      <td>D2</td>\n",
       "      <td>Electricity</td>\n",
       "      <td>13088.521373</td>\n",
       "    </tr>\n",
       "    <tr>\n",
       "      <th>4</th>\n",
       "      <td>BEV_S1_2027</td>\n",
       "      <td>BEV</td>\n",
       "      <td>S1</td>\n",
       "      <td>2027</td>\n",
       "      <td>152312</td>\n",
       "      <td>102000</td>\n",
       "      <td>D2</td>\n",
       "      <td>Electricity</td>\n",
       "      <td>12723.848463</td>\n",
       "    </tr>\n",
       "    <tr>\n",
       "      <th>...</th>\n",
       "      <td>...</td>\n",
       "      <td>...</td>\n",
       "      <td>...</td>\n",
       "      <td>...</td>\n",
       "      <td>...</td>\n",
       "      <td>...</td>\n",
       "      <td>...</td>\n",
       "      <td>...</td>\n",
       "      <td>...</td>\n",
       "    </tr>\n",
       "    <tr>\n",
       "      <th>187</th>\n",
       "      <td>LNG_S3_2034</td>\n",
       "      <td>LNG</td>\n",
       "      <td>S3</td>\n",
       "      <td>2034</td>\n",
       "      <td>209208</td>\n",
       "      <td>73000</td>\n",
       "      <td>D4</td>\n",
       "      <td>LNG</td>\n",
       "      <td>10883.731404</td>\n",
       "    </tr>\n",
       "    <tr>\n",
       "      <th>188</th>\n",
       "      <td>LNG_S3_2035</td>\n",
       "      <td>LNG</td>\n",
       "      <td>S3</td>\n",
       "      <td>2035</td>\n",
       "      <td>215484</td>\n",
       "      <td>73000</td>\n",
       "      <td>D4</td>\n",
       "      <td>LNG</td>\n",
       "      <td>10883.731404</td>\n",
       "    </tr>\n",
       "    <tr>\n",
       "      <th>189</th>\n",
       "      <td>LNG_S3_2036</td>\n",
       "      <td>LNG</td>\n",
       "      <td>S3</td>\n",
       "      <td>2036</td>\n",
       "      <td>221948</td>\n",
       "      <td>73000</td>\n",
       "      <td>D4</td>\n",
       "      <td>LNG</td>\n",
       "      <td>10883.731404</td>\n",
       "    </tr>\n",
       "    <tr>\n",
       "      <th>190</th>\n",
       "      <td>LNG_S3_2037</td>\n",
       "      <td>LNG</td>\n",
       "      <td>S3</td>\n",
       "      <td>2037</td>\n",
       "      <td>228607</td>\n",
       "      <td>73000</td>\n",
       "      <td>D4</td>\n",
       "      <td>LNG</td>\n",
       "      <td>10883.731404</td>\n",
       "    </tr>\n",
       "    <tr>\n",
       "      <th>191</th>\n",
       "      <td>LNG_S3_2038</td>\n",
       "      <td>LNG</td>\n",
       "      <td>S3</td>\n",
       "      <td>2038</td>\n",
       "      <td>235465</td>\n",
       "      <td>73000</td>\n",
       "      <td>D4</td>\n",
       "      <td>LNG</td>\n",
       "      <td>10883.731404</td>\n",
       "    </tr>\n",
       "  </tbody>\n",
       "</table>\n",
       "<p>192 rows × 9 columns</p>\n",
       "</div>"
      ],
      "text/plain": [
       "              ID Vehicle Size  Year  Cost ($)  Yearly range (km) Distance  \\\n",
       "0    BEV_S1_2023     BEV   S1  2023    187000             102000       D1   \n",
       "1    BEV_S1_2024     BEV   S1  2024    177650             102000       D1   \n",
       "2    BEV_S1_2025     BEV   S1  2025    168767             102000       D1   \n",
       "3    BEV_S1_2026     BEV   S1  2026    160329             102000       D2   \n",
       "4    BEV_S1_2027     BEV   S1  2027    152312             102000       D2   \n",
       "..           ...     ...  ...   ...       ...                ...      ...   \n",
       "187  LNG_S3_2034     LNG   S3  2034    209208              73000       D4   \n",
       "188  LNG_S3_2035     LNG   S3  2035    215484              73000       D4   \n",
       "189  LNG_S3_2036     LNG   S3  2036    221948              73000       D4   \n",
       "190  LNG_S3_2037     LNG   S3  2037    228607              73000       D4   \n",
       "191  LNG_S3_2038     LNG   S3  2038    235465              73000       D4   \n",
       "\n",
       "            fuel     fuel_cost  \n",
       "0    Electricity  13088.521373  \n",
       "1    Electricity  13088.521373  \n",
       "2    Electricity  13088.521373  \n",
       "3    Electricity  13088.521373  \n",
       "4    Electricity  12723.848463  \n",
       "..           ...           ...  \n",
       "187          LNG  10883.731404  \n",
       "188          LNG  10883.731404  \n",
       "189          LNG  10883.731404  \n",
       "190          LNG  10883.731404  \n",
       "191          LNG  10883.731404  \n",
       "\n",
       "[192 rows x 9 columns]"
      ]
     },
     "execution_count": 15,
     "metadata": {},
     "output_type": "execute_result"
    }
   ],
   "source": [
    "vehicle_data"
   ]
  },
  {
   "cell_type": "code",
   "execution_count": 12,
   "metadata": {},
   "outputs": [],
   "source": [
    "vehicle_data.to_csv('vehicle_data.csv')"
   ]
  },
  {
   "cell_type": "code",
   "execution_count": 13,
   "metadata": {},
   "outputs": [],
   "source": [
    "import plotly.graph_objects as go"
   ]
  },
  {
   "cell_type": "code",
   "execution_count": 14,
   "metadata": {},
   "outputs": [
    {
     "data": {
      "application/vnd.plotly.v1+json": {
       "config": {
        "plotlyServerURL": "https://plot.ly"
       },
       "data": [
        {
         "name": "BEV",
         "type": "bar",
         "x": [
          2023,
          2024,
          2025,
          2026,
          2027,
          2028,
          2029,
          2030,
          2031,
          2032,
          2033,
          2034,
          2035,
          2036,
          2037,
          2038
         ],
         "xaxis": "x",
         "y": [
          187000,
          177650,
          168767,
          160329,
          152312,
          144697,
          137462,
          130589,
          130589,
          130589,
          130589,
          130589,
          130589,
          130589,
          130589,
          130589
         ],
         "yaxis": "y"
        },
        {
         "name": "LNG",
         "type": "bar",
         "x": [
          2023,
          2024,
          2025,
          2026,
          2027,
          2028,
          2029,
          2030,
          2031,
          2032,
          2033,
          2034,
          2035,
          2036,
          2037,
          2038
         ],
         "xaxis": "x",
         "y": [
          100000,
          103000,
          106090,
          109272,
          112550,
          115927,
          119405,
          122987,
          126677,
          130477,
          134391,
          138423,
          142576,
          146853,
          151258,
          155796
         ],
         "yaxis": "y"
        },
        {
         "name": "Diesel",
         "type": "bar",
         "x": [
          2023,
          2024,
          2025,
          2026,
          2027,
          2028,
          2029,
          2030,
          2031,
          2032,
          2033,
          2034,
          2035,
          2036,
          2037,
          2038
         ],
         "xaxis": "x",
         "y": [
          85000,
          87550,
          90176,
          92881,
          95668,
          98538,
          101494,
          104539,
          107675,
          110905,
          114232,
          117659,
          121189,
          124825,
          128570,
          132427
         ],
         "yaxis": "y"
        },
        {
         "name": "BEV",
         "type": "bar",
         "x": [
          2023,
          2024,
          2025,
          2026,
          2027,
          2028,
          2029,
          2030,
          2031,
          2032,
          2033,
          2034,
          2035,
          2036,
          2037,
          2038
         ],
         "xaxis": "x2",
         "y": [
          272000,
          258400,
          245480,
          233206,
          221545,
          210468,
          199944,
          189947,
          189947,
          189947,
          189947,
          189947,
          189947,
          189947,
          189947,
          189947
         ],
         "yaxis": "y2"
        },
        {
         "name": "LNG",
         "type": "bar",
         "x": [
          2023,
          2024,
          2025,
          2026,
          2027,
          2028,
          2029,
          2030,
          2031,
          2032,
          2033,
          2034,
          2035,
          2036,
          2037,
          2038
         ],
         "xaxis": "x2",
         "y": [
          133000,
          136990,
          141099,
          145332,
          149692,
          154183,
          158808,
          163573,
          168480,
          173534,
          178740,
          184103,
          189626,
          195314,
          201174,
          207209
         ],
         "yaxis": "y2"
        },
        {
         "name": "Diesel",
         "type": "bar",
         "x": [
          2023,
          2024,
          2025,
          2026,
          2027,
          2028,
          2029,
          2030,
          2031,
          2032,
          2033,
          2034,
          2035,
          2036,
          2037,
          2038
         ],
         "xaxis": "x2",
         "y": [
          104000,
          107120,
          110333,
          113643,
          117052,
          120564,
          124181,
          127906,
          131744,
          135696,
          139767,
          143960,
          148279,
          152727,
          157309,
          162028
         ],
         "yaxis": "y2"
        },
        {
         "name": "BEV",
         "type": "bar",
         "x": [
          2023,
          2024,
          2025,
          2026,
          2027,
          2028,
          2029,
          2030,
          2031,
          2032,
          2033,
          2034,
          2035,
          2036,
          2037,
          2038
         ],
         "xaxis": "x3",
         "y": [
          309090,
          293636,
          278954,
          265006,
          251756,
          239168,
          227210,
          215849,
          215849,
          215849,
          215849,
          215849,
          215849,
          215849,
          215849,
          215849
         ],
         "yaxis": "y3"
        },
        {
         "name": "LNG",
         "type": "bar",
         "x": [
          2023,
          2024,
          2025,
          2026,
          2027,
          2028,
          2029,
          2030,
          2031,
          2032,
          2033,
          2034,
          2035,
          2036,
          2037,
          2038
         ],
         "xaxis": "x3",
         "y": [
          151136,
          155670,
          160340,
          165150,
          170105,
          175208,
          180464,
          185878,
          191455,
          197198,
          203114,
          209208,
          215484,
          221948,
          228607,
          235465
         ],
         "yaxis": "y3"
        },
        {
         "name": "Diesel",
         "type": "bar",
         "x": [
          2023,
          2024,
          2025,
          2026,
          2027,
          2028,
          2029,
          2030,
          2031,
          2032,
          2033,
          2034,
          2035,
          2036,
          2037,
          2038
         ],
         "xaxis": "x3",
         "y": [
          118181,
          121727,
          125379,
          129140,
          133014,
          137005,
          141115,
          145348,
          149709,
          154200,
          158826,
          163591,
          168499,
          173553,
          178760,
          184123
         ],
         "yaxis": "y3"
        },
        {
         "name": "BEV",
         "type": "bar",
         "x": [
          2023,
          2024,
          2025,
          2026,
          2027,
          2028,
          2029,
          2030,
          2031,
          2032,
          2033,
          2034,
          2035,
          2036,
          2037,
          2038
         ],
         "xaxis": "x4",
         "y": [
          395636,
          375854,
          357061,
          339208,
          322248,
          306135,
          290829,
          276287,
          276287,
          276287,
          276287,
          276287,
          276287,
          276287,
          276287,
          276287
         ],
         "yaxis": "y4"
        },
        {
         "name": "LNG",
         "type": "bar",
         "x": [
          2023,
          2024,
          2025,
          2026,
          2027,
          2028,
          2029,
          2030,
          2031,
          2032,
          2033,
          2034,
          2035,
          2036,
          2037,
          2038
         ],
         "xaxis": "x4",
         "y": [
          193454,
          199258,
          205235,
          211393,
          217734,
          224266,
          230994,
          237924,
          245062,
          252414,
          259986,
          267786,
          275819,
          284094,
          292617,
          301395
         ],
         "yaxis": "y4"
        },
        {
         "name": "Diesel",
         "type": "bar",
         "x": [
          2023,
          2024,
          2025,
          2026,
          2027,
          2028,
          2029,
          2030,
          2031,
          2032,
          2033,
          2034,
          2035,
          2036,
          2037,
          2038
         ],
         "xaxis": "x4",
         "y": [
          151272,
          155810,
          160485,
          165299,
          170258,
          175366,
          180627,
          186046,
          191627,
          197376,
          203297,
          209396,
          215678,
          222149,
          228813,
          235677
         ],
         "yaxis": "y4"
        }
       ],
       "layout": {
        "annotations": [
         {
          "font": {
           "size": 16
          },
          "showarrow": false,
          "text": "S1",
          "x": 0.5,
          "xanchor": "center",
          "xref": "paper",
          "y": 1,
          "yanchor": "bottom",
          "yref": "paper"
         },
         {
          "font": {
           "size": 16
          },
          "showarrow": false,
          "text": "S2",
          "x": 0.5,
          "xanchor": "center",
          "xref": "paper",
          "y": 0.71875,
          "yanchor": "bottom",
          "yref": "paper"
         },
         {
          "font": {
           "size": 16
          },
          "showarrow": false,
          "text": "S3",
          "x": 0.5,
          "xanchor": "center",
          "xref": "paper",
          "y": 0.4375,
          "yanchor": "bottom",
          "yref": "paper"
         },
         {
          "font": {
           "size": 16
          },
          "showarrow": false,
          "text": "S4",
          "x": 0.5,
          "xanchor": "center",
          "xref": "paper",
          "y": 0.15625,
          "yanchor": "bottom",
          "yref": "paper"
         }
        ],
        "template": {
         "data": {
          "bar": [
           {
            "error_x": {
             "color": "#2a3f5f"
            },
            "error_y": {
             "color": "#2a3f5f"
            },
            "marker": {
             "line": {
              "color": "#E5ECF6",
              "width": 0.5
             },
             "pattern": {
              "fillmode": "overlay",
              "size": 10,
              "solidity": 0.2
             }
            },
            "type": "bar"
           }
          ],
          "barpolar": [
           {
            "marker": {
             "line": {
              "color": "#E5ECF6",
              "width": 0.5
             },
             "pattern": {
              "fillmode": "overlay",
              "size": 10,
              "solidity": 0.2
             }
            },
            "type": "barpolar"
           }
          ],
          "carpet": [
           {
            "aaxis": {
             "endlinecolor": "#2a3f5f",
             "gridcolor": "white",
             "linecolor": "white",
             "minorgridcolor": "white",
             "startlinecolor": "#2a3f5f"
            },
            "baxis": {
             "endlinecolor": "#2a3f5f",
             "gridcolor": "white",
             "linecolor": "white",
             "minorgridcolor": "white",
             "startlinecolor": "#2a3f5f"
            },
            "type": "carpet"
           }
          ],
          "choropleth": [
           {
            "colorbar": {
             "outlinewidth": 0,
             "ticks": ""
            },
            "type": "choropleth"
           }
          ],
          "contour": [
           {
            "colorbar": {
             "outlinewidth": 0,
             "ticks": ""
            },
            "colorscale": [
             [
              0,
              "#0d0887"
             ],
             [
              0.1111111111111111,
              "#46039f"
             ],
             [
              0.2222222222222222,
              "#7201a8"
             ],
             [
              0.3333333333333333,
              "#9c179e"
             ],
             [
              0.4444444444444444,
              "#bd3786"
             ],
             [
              0.5555555555555556,
              "#d8576b"
             ],
             [
              0.6666666666666666,
              "#ed7953"
             ],
             [
              0.7777777777777778,
              "#fb9f3a"
             ],
             [
              0.8888888888888888,
              "#fdca26"
             ],
             [
              1,
              "#f0f921"
             ]
            ],
            "type": "contour"
           }
          ],
          "contourcarpet": [
           {
            "colorbar": {
             "outlinewidth": 0,
             "ticks": ""
            },
            "type": "contourcarpet"
           }
          ],
          "heatmap": [
           {
            "colorbar": {
             "outlinewidth": 0,
             "ticks": ""
            },
            "colorscale": [
             [
              0,
              "#0d0887"
             ],
             [
              0.1111111111111111,
              "#46039f"
             ],
             [
              0.2222222222222222,
              "#7201a8"
             ],
             [
              0.3333333333333333,
              "#9c179e"
             ],
             [
              0.4444444444444444,
              "#bd3786"
             ],
             [
              0.5555555555555556,
              "#d8576b"
             ],
             [
              0.6666666666666666,
              "#ed7953"
             ],
             [
              0.7777777777777778,
              "#fb9f3a"
             ],
             [
              0.8888888888888888,
              "#fdca26"
             ],
             [
              1,
              "#f0f921"
             ]
            ],
            "type": "heatmap"
           }
          ],
          "heatmapgl": [
           {
            "colorbar": {
             "outlinewidth": 0,
             "ticks": ""
            },
            "colorscale": [
             [
              0,
              "#0d0887"
             ],
             [
              0.1111111111111111,
              "#46039f"
             ],
             [
              0.2222222222222222,
              "#7201a8"
             ],
             [
              0.3333333333333333,
              "#9c179e"
             ],
             [
              0.4444444444444444,
              "#bd3786"
             ],
             [
              0.5555555555555556,
              "#d8576b"
             ],
             [
              0.6666666666666666,
              "#ed7953"
             ],
             [
              0.7777777777777778,
              "#fb9f3a"
             ],
             [
              0.8888888888888888,
              "#fdca26"
             ],
             [
              1,
              "#f0f921"
             ]
            ],
            "type": "heatmapgl"
           }
          ],
          "histogram": [
           {
            "marker": {
             "pattern": {
              "fillmode": "overlay",
              "size": 10,
              "solidity": 0.2
             }
            },
            "type": "histogram"
           }
          ],
          "histogram2d": [
           {
            "colorbar": {
             "outlinewidth": 0,
             "ticks": ""
            },
            "colorscale": [
             [
              0,
              "#0d0887"
             ],
             [
              0.1111111111111111,
              "#46039f"
             ],
             [
              0.2222222222222222,
              "#7201a8"
             ],
             [
              0.3333333333333333,
              "#9c179e"
             ],
             [
              0.4444444444444444,
              "#bd3786"
             ],
             [
              0.5555555555555556,
              "#d8576b"
             ],
             [
              0.6666666666666666,
              "#ed7953"
             ],
             [
              0.7777777777777778,
              "#fb9f3a"
             ],
             [
              0.8888888888888888,
              "#fdca26"
             ],
             [
              1,
              "#f0f921"
             ]
            ],
            "type": "histogram2d"
           }
          ],
          "histogram2dcontour": [
           {
            "colorbar": {
             "outlinewidth": 0,
             "ticks": ""
            },
            "colorscale": [
             [
              0,
              "#0d0887"
             ],
             [
              0.1111111111111111,
              "#46039f"
             ],
             [
              0.2222222222222222,
              "#7201a8"
             ],
             [
              0.3333333333333333,
              "#9c179e"
             ],
             [
              0.4444444444444444,
              "#bd3786"
             ],
             [
              0.5555555555555556,
              "#d8576b"
             ],
             [
              0.6666666666666666,
              "#ed7953"
             ],
             [
              0.7777777777777778,
              "#fb9f3a"
             ],
             [
              0.8888888888888888,
              "#fdca26"
             ],
             [
              1,
              "#f0f921"
             ]
            ],
            "type": "histogram2dcontour"
           }
          ],
          "mesh3d": [
           {
            "colorbar": {
             "outlinewidth": 0,
             "ticks": ""
            },
            "type": "mesh3d"
           }
          ],
          "parcoords": [
           {
            "line": {
             "colorbar": {
              "outlinewidth": 0,
              "ticks": ""
             }
            },
            "type": "parcoords"
           }
          ],
          "pie": [
           {
            "automargin": true,
            "type": "pie"
           }
          ],
          "scatter": [
           {
            "fillpattern": {
             "fillmode": "overlay",
             "size": 10,
             "solidity": 0.2
            },
            "type": "scatter"
           }
          ],
          "scatter3d": [
           {
            "line": {
             "colorbar": {
              "outlinewidth": 0,
              "ticks": ""
             }
            },
            "marker": {
             "colorbar": {
              "outlinewidth": 0,
              "ticks": ""
             }
            },
            "type": "scatter3d"
           }
          ],
          "scattercarpet": [
           {
            "marker": {
             "colorbar": {
              "outlinewidth": 0,
              "ticks": ""
             }
            },
            "type": "scattercarpet"
           }
          ],
          "scattergeo": [
           {
            "marker": {
             "colorbar": {
              "outlinewidth": 0,
              "ticks": ""
             }
            },
            "type": "scattergeo"
           }
          ],
          "scattergl": [
           {
            "marker": {
             "colorbar": {
              "outlinewidth": 0,
              "ticks": ""
             }
            },
            "type": "scattergl"
           }
          ],
          "scattermapbox": [
           {
            "marker": {
             "colorbar": {
              "outlinewidth": 0,
              "ticks": ""
             }
            },
            "type": "scattermapbox"
           }
          ],
          "scatterpolar": [
           {
            "marker": {
             "colorbar": {
              "outlinewidth": 0,
              "ticks": ""
             }
            },
            "type": "scatterpolar"
           }
          ],
          "scatterpolargl": [
           {
            "marker": {
             "colorbar": {
              "outlinewidth": 0,
              "ticks": ""
             }
            },
            "type": "scatterpolargl"
           }
          ],
          "scatterternary": [
           {
            "marker": {
             "colorbar": {
              "outlinewidth": 0,
              "ticks": ""
             }
            },
            "type": "scatterternary"
           }
          ],
          "surface": [
           {
            "colorbar": {
             "outlinewidth": 0,
             "ticks": ""
            },
            "colorscale": [
             [
              0,
              "#0d0887"
             ],
             [
              0.1111111111111111,
              "#46039f"
             ],
             [
              0.2222222222222222,
              "#7201a8"
             ],
             [
              0.3333333333333333,
              "#9c179e"
             ],
             [
              0.4444444444444444,
              "#bd3786"
             ],
             [
              0.5555555555555556,
              "#d8576b"
             ],
             [
              0.6666666666666666,
              "#ed7953"
             ],
             [
              0.7777777777777778,
              "#fb9f3a"
             ],
             [
              0.8888888888888888,
              "#fdca26"
             ],
             [
              1,
              "#f0f921"
             ]
            ],
            "type": "surface"
           }
          ],
          "table": [
           {
            "cells": {
             "fill": {
              "color": "#EBF0F8"
             },
             "line": {
              "color": "white"
             }
            },
            "header": {
             "fill": {
              "color": "#C8D4E3"
             },
             "line": {
              "color": "white"
             }
            },
            "type": "table"
           }
          ]
         },
         "layout": {
          "annotationdefaults": {
           "arrowcolor": "#2a3f5f",
           "arrowhead": 0,
           "arrowwidth": 1
          },
          "autotypenumbers": "strict",
          "coloraxis": {
           "colorbar": {
            "outlinewidth": 0,
            "ticks": ""
           }
          },
          "colorscale": {
           "diverging": [
            [
             0,
             "#8e0152"
            ],
            [
             0.1,
             "#c51b7d"
            ],
            [
             0.2,
             "#de77ae"
            ],
            [
             0.3,
             "#f1b6da"
            ],
            [
             0.4,
             "#fde0ef"
            ],
            [
             0.5,
             "#f7f7f7"
            ],
            [
             0.6,
             "#e6f5d0"
            ],
            [
             0.7,
             "#b8e186"
            ],
            [
             0.8,
             "#7fbc41"
            ],
            [
             0.9,
             "#4d9221"
            ],
            [
             1,
             "#276419"
            ]
           ],
           "sequential": [
            [
             0,
             "#0d0887"
            ],
            [
             0.1111111111111111,
             "#46039f"
            ],
            [
             0.2222222222222222,
             "#7201a8"
            ],
            [
             0.3333333333333333,
             "#9c179e"
            ],
            [
             0.4444444444444444,
             "#bd3786"
            ],
            [
             0.5555555555555556,
             "#d8576b"
            ],
            [
             0.6666666666666666,
             "#ed7953"
            ],
            [
             0.7777777777777778,
             "#fb9f3a"
            ],
            [
             0.8888888888888888,
             "#fdca26"
            ],
            [
             1,
             "#f0f921"
            ]
           ],
           "sequentialminus": [
            [
             0,
             "#0d0887"
            ],
            [
             0.1111111111111111,
             "#46039f"
            ],
            [
             0.2222222222222222,
             "#7201a8"
            ],
            [
             0.3333333333333333,
             "#9c179e"
            ],
            [
             0.4444444444444444,
             "#bd3786"
            ],
            [
             0.5555555555555556,
             "#d8576b"
            ],
            [
             0.6666666666666666,
             "#ed7953"
            ],
            [
             0.7777777777777778,
             "#fb9f3a"
            ],
            [
             0.8888888888888888,
             "#fdca26"
            ],
            [
             1,
             "#f0f921"
            ]
           ]
          },
          "colorway": [
           "#636efa",
           "#EF553B",
           "#00cc96",
           "#ab63fa",
           "#FFA15A",
           "#19d3f3",
           "#FF6692",
           "#B6E880",
           "#FF97FF",
           "#FECB52"
          ],
          "font": {
           "color": "#2a3f5f"
          },
          "geo": {
           "bgcolor": "white",
           "lakecolor": "white",
           "landcolor": "#E5ECF6",
           "showlakes": true,
           "showland": true,
           "subunitcolor": "white"
          },
          "hoverlabel": {
           "align": "left"
          },
          "hovermode": "closest",
          "mapbox": {
           "style": "light"
          },
          "paper_bgcolor": "white",
          "plot_bgcolor": "#E5ECF6",
          "polar": {
           "angularaxis": {
            "gridcolor": "white",
            "linecolor": "white",
            "ticks": ""
           },
           "bgcolor": "#E5ECF6",
           "radialaxis": {
            "gridcolor": "white",
            "linecolor": "white",
            "ticks": ""
           }
          },
          "scene": {
           "xaxis": {
            "backgroundcolor": "#E5ECF6",
            "gridcolor": "white",
            "gridwidth": 2,
            "linecolor": "white",
            "showbackground": true,
            "ticks": "",
            "zerolinecolor": "white"
           },
           "yaxis": {
            "backgroundcolor": "#E5ECF6",
            "gridcolor": "white",
            "gridwidth": 2,
            "linecolor": "white",
            "showbackground": true,
            "ticks": "",
            "zerolinecolor": "white"
           },
           "zaxis": {
            "backgroundcolor": "#E5ECF6",
            "gridcolor": "white",
            "gridwidth": 2,
            "linecolor": "white",
            "showbackground": true,
            "ticks": "",
            "zerolinecolor": "white"
           }
          },
          "shapedefaults": {
           "line": {
            "color": "#2a3f5f"
           }
          },
          "ternary": {
           "aaxis": {
            "gridcolor": "white",
            "linecolor": "white",
            "ticks": ""
           },
           "baxis": {
            "gridcolor": "white",
            "linecolor": "white",
            "ticks": ""
           },
           "bgcolor": "#E5ECF6",
           "caxis": {
            "gridcolor": "white",
            "linecolor": "white",
            "ticks": ""
           }
          },
          "title": {
           "x": 0.05
          },
          "xaxis": {
           "automargin": true,
           "gridcolor": "white",
           "linecolor": "white",
           "ticks": "",
           "title": {
            "standoff": 15
           },
           "zerolinecolor": "white",
           "zerolinewidth": 2
          },
          "yaxis": {
           "automargin": true,
           "gridcolor": "white",
           "linecolor": "white",
           "ticks": "",
           "title": {
            "standoff": 15
           },
           "zerolinecolor": "white",
           "zerolinewidth": 2
          }
         }
        },
        "xaxis": {
         "anchor": "y",
         "domain": [
          0,
          1
         ]
        },
        "xaxis2": {
         "anchor": "y2",
         "domain": [
          0,
          1
         ]
        },
        "xaxis3": {
         "anchor": "y3",
         "domain": [
          0,
          1
         ]
        },
        "xaxis4": {
         "anchor": "y4",
         "domain": [
          0,
          1
         ]
        },
        "yaxis": {
         "anchor": "x",
         "domain": [
          0.84375,
          1
         ]
        },
        "yaxis2": {
         "anchor": "x2",
         "domain": [
          0.5625,
          0.71875
         ]
        },
        "yaxis3": {
         "anchor": "x3",
         "domain": [
          0.28125,
          0.4375
         ]
        },
        "yaxis4": {
         "anchor": "x4",
         "domain": [
          0,
          0.15625
         ]
        }
       }
      }
     },
     "metadata": {},
     "output_type": "display_data"
    },
    {
     "data": {
      "application/vnd.plotly.v1+json": {
       "config": {
        "plotlyServerURL": "https://plot.ly"
       },
       "data": [
        {
         "name": "BEV",
         "type": "bar",
         "x": [
          2023,
          2024,
          2025,
          2026,
          2027,
          2028,
          2029,
          2030,
          2031,
          2032,
          2033,
          2034,
          2035,
          2036,
          2037,
          2038
         ],
         "xaxis": "x",
         "y": [
          187000,
          177650,
          168767,
          160329,
          152312,
          144697,
          137462,
          130589,
          130589,
          130589,
          130589,
          130589,
          130589,
          130589,
          130589,
          130589
         ],
         "yaxis": "y"
        },
        {
         "name": "LNG",
         "type": "bar",
         "x": [
          2023,
          2024,
          2025,
          2026,
          2027,
          2028,
          2029,
          2030,
          2031,
          2032,
          2033,
          2034,
          2035,
          2036,
          2037,
          2038
         ],
         "xaxis": "x",
         "y": [
          100000,
          103000,
          106090,
          109272,
          112550,
          115927,
          119405,
          122987,
          126677,
          130477,
          134391,
          138423,
          142576,
          146853,
          151258,
          155796
         ],
         "yaxis": "y"
        },
        {
         "name": "Diesel",
         "type": "bar",
         "x": [
          2023,
          2024,
          2025,
          2026,
          2027,
          2028,
          2029,
          2030,
          2031,
          2032,
          2033,
          2034,
          2035,
          2036,
          2037,
          2038
         ],
         "xaxis": "x",
         "y": [
          85000,
          87550,
          90176,
          92881,
          95668,
          98538,
          101494,
          104539,
          107675,
          110905,
          114232,
          117659,
          121189,
          124825,
          128570,
          132427
         ],
         "yaxis": "y"
        },
        {
         "name": "BEV",
         "type": "bar",
         "x": [
          2023,
          2024,
          2025,
          2026,
          2027,
          2028,
          2029,
          2030,
          2031,
          2032,
          2033,
          2034,
          2035,
          2036,
          2037,
          2038
         ],
         "xaxis": "x2",
         "y": [
          272000,
          258400,
          245480,
          233206,
          221545,
          210468,
          199944,
          189947,
          189947,
          189947,
          189947,
          189947,
          189947,
          189947,
          189947,
          189947
         ],
         "yaxis": "y2"
        },
        {
         "name": "LNG",
         "type": "bar",
         "x": [
          2023,
          2024,
          2025,
          2026,
          2027,
          2028,
          2029,
          2030,
          2031,
          2032,
          2033,
          2034,
          2035,
          2036,
          2037,
          2038
         ],
         "xaxis": "x2",
         "y": [
          133000,
          136990,
          141099,
          145332,
          149692,
          154183,
          158808,
          163573,
          168480,
          173534,
          178740,
          184103,
          189626,
          195314,
          201174,
          207209
         ],
         "yaxis": "y2"
        },
        {
         "name": "Diesel",
         "type": "bar",
         "x": [
          2023,
          2024,
          2025,
          2026,
          2027,
          2028,
          2029,
          2030,
          2031,
          2032,
          2033,
          2034,
          2035,
          2036,
          2037,
          2038
         ],
         "xaxis": "x2",
         "y": [
          104000,
          107120,
          110333,
          113643,
          117052,
          120564,
          124181,
          127906,
          131744,
          135696,
          139767,
          143960,
          148279,
          152727,
          157309,
          162028
         ],
         "yaxis": "y2"
        },
        {
         "name": "BEV",
         "type": "bar",
         "x": [
          2023,
          2024,
          2025,
          2026,
          2027,
          2028,
          2029,
          2030,
          2031,
          2032,
          2033,
          2034,
          2035,
          2036,
          2037,
          2038
         ],
         "xaxis": "x3",
         "y": [
          309090,
          293636,
          278954,
          265006,
          251756,
          239168,
          227210,
          215849,
          215849,
          215849,
          215849,
          215849,
          215849,
          215849,
          215849,
          215849
         ],
         "yaxis": "y3"
        },
        {
         "name": "LNG",
         "type": "bar",
         "x": [
          2023,
          2024,
          2025,
          2026,
          2027,
          2028,
          2029,
          2030,
          2031,
          2032,
          2033,
          2034,
          2035,
          2036,
          2037,
          2038
         ],
         "xaxis": "x3",
         "y": [
          151136,
          155670,
          160340,
          165150,
          170105,
          175208,
          180464,
          185878,
          191455,
          197198,
          203114,
          209208,
          215484,
          221948,
          228607,
          235465
         ],
         "yaxis": "y3"
        },
        {
         "name": "Diesel",
         "type": "bar",
         "x": [
          2023,
          2024,
          2025,
          2026,
          2027,
          2028,
          2029,
          2030,
          2031,
          2032,
          2033,
          2034,
          2035,
          2036,
          2037,
          2038
         ],
         "xaxis": "x3",
         "y": [
          118181,
          121727,
          125379,
          129140,
          133014,
          137005,
          141115,
          145348,
          149709,
          154200,
          158826,
          163591,
          168499,
          173553,
          178760,
          184123
         ],
         "yaxis": "y3"
        },
        {
         "name": "BEV",
         "type": "bar",
         "x": [
          2023,
          2024,
          2025,
          2026,
          2027,
          2028,
          2029,
          2030,
          2031,
          2032,
          2033,
          2034,
          2035,
          2036,
          2037,
          2038
         ],
         "xaxis": "x4",
         "y": [
          395636,
          375854,
          357061,
          339208,
          322248,
          306135,
          290829,
          276287,
          276287,
          276287,
          276287,
          276287,
          276287,
          276287,
          276287,
          276287
         ],
         "yaxis": "y4"
        },
        {
         "name": "LNG",
         "type": "bar",
         "x": [
          2023,
          2024,
          2025,
          2026,
          2027,
          2028,
          2029,
          2030,
          2031,
          2032,
          2033,
          2034,
          2035,
          2036,
          2037,
          2038
         ],
         "xaxis": "x4",
         "y": [
          193454,
          199258,
          205235,
          211393,
          217734,
          224266,
          230994,
          237924,
          245062,
          252414,
          259986,
          267786,
          275819,
          284094,
          292617,
          301395
         ],
         "yaxis": "y4"
        },
        {
         "name": "Diesel",
         "type": "bar",
         "x": [
          2023,
          2024,
          2025,
          2026,
          2027,
          2028,
          2029,
          2030,
          2031,
          2032,
          2033,
          2034,
          2035,
          2036,
          2037,
          2038
         ],
         "xaxis": "x4",
         "y": [
          151272,
          155810,
          160485,
          165299,
          170258,
          175366,
          180627,
          186046,
          191627,
          197376,
          203297,
          209396,
          215678,
          222149,
          228813,
          235677
         ],
         "yaxis": "y4"
        }
       ],
       "layout": {
        "annotations": [
         {
          "font": {
           "size": 16
          },
          "showarrow": false,
          "text": "S1",
          "x": 0.5,
          "xanchor": "center",
          "xref": "paper",
          "y": 1,
          "yanchor": "bottom",
          "yref": "paper"
         },
         {
          "font": {
           "size": 16
          },
          "showarrow": false,
          "text": "S2",
          "x": 0.5,
          "xanchor": "center",
          "xref": "paper",
          "y": 0.71875,
          "yanchor": "bottom",
          "yref": "paper"
         },
         {
          "font": {
           "size": 16
          },
          "showarrow": false,
          "text": "S3",
          "x": 0.5,
          "xanchor": "center",
          "xref": "paper",
          "y": 0.4375,
          "yanchor": "bottom",
          "yref": "paper"
         },
         {
          "font": {
           "size": 16
          },
          "showarrow": false,
          "text": "S4",
          "x": 0.5,
          "xanchor": "center",
          "xref": "paper",
          "y": 0.15625,
          "yanchor": "bottom",
          "yref": "paper"
         }
        ],
        "height": 10,
        "template": {
         "data": {
          "bar": [
           {
            "error_x": {
             "color": "#2a3f5f"
            },
            "error_y": {
             "color": "#2a3f5f"
            },
            "marker": {
             "line": {
              "color": "#E5ECF6",
              "width": 0.5
             },
             "pattern": {
              "fillmode": "overlay",
              "size": 10,
              "solidity": 0.2
             }
            },
            "type": "bar"
           }
          ],
          "barpolar": [
           {
            "marker": {
             "line": {
              "color": "#E5ECF6",
              "width": 0.5
             },
             "pattern": {
              "fillmode": "overlay",
              "size": 10,
              "solidity": 0.2
             }
            },
            "type": "barpolar"
           }
          ],
          "carpet": [
           {
            "aaxis": {
             "endlinecolor": "#2a3f5f",
             "gridcolor": "white",
             "linecolor": "white",
             "minorgridcolor": "white",
             "startlinecolor": "#2a3f5f"
            },
            "baxis": {
             "endlinecolor": "#2a3f5f",
             "gridcolor": "white",
             "linecolor": "white",
             "minorgridcolor": "white",
             "startlinecolor": "#2a3f5f"
            },
            "type": "carpet"
           }
          ],
          "choropleth": [
           {
            "colorbar": {
             "outlinewidth": 0,
             "ticks": ""
            },
            "type": "choropleth"
           }
          ],
          "contour": [
           {
            "colorbar": {
             "outlinewidth": 0,
             "ticks": ""
            },
            "colorscale": [
             [
              0,
              "#0d0887"
             ],
             [
              0.1111111111111111,
              "#46039f"
             ],
             [
              0.2222222222222222,
              "#7201a8"
             ],
             [
              0.3333333333333333,
              "#9c179e"
             ],
             [
              0.4444444444444444,
              "#bd3786"
             ],
             [
              0.5555555555555556,
              "#d8576b"
             ],
             [
              0.6666666666666666,
              "#ed7953"
             ],
             [
              0.7777777777777778,
              "#fb9f3a"
             ],
             [
              0.8888888888888888,
              "#fdca26"
             ],
             [
              1,
              "#f0f921"
             ]
            ],
            "type": "contour"
           }
          ],
          "contourcarpet": [
           {
            "colorbar": {
             "outlinewidth": 0,
             "ticks": ""
            },
            "type": "contourcarpet"
           }
          ],
          "heatmap": [
           {
            "colorbar": {
             "outlinewidth": 0,
             "ticks": ""
            },
            "colorscale": [
             [
              0,
              "#0d0887"
             ],
             [
              0.1111111111111111,
              "#46039f"
             ],
             [
              0.2222222222222222,
              "#7201a8"
             ],
             [
              0.3333333333333333,
              "#9c179e"
             ],
             [
              0.4444444444444444,
              "#bd3786"
             ],
             [
              0.5555555555555556,
              "#d8576b"
             ],
             [
              0.6666666666666666,
              "#ed7953"
             ],
             [
              0.7777777777777778,
              "#fb9f3a"
             ],
             [
              0.8888888888888888,
              "#fdca26"
             ],
             [
              1,
              "#f0f921"
             ]
            ],
            "type": "heatmap"
           }
          ],
          "heatmapgl": [
           {
            "colorbar": {
             "outlinewidth": 0,
             "ticks": ""
            },
            "colorscale": [
             [
              0,
              "#0d0887"
             ],
             [
              0.1111111111111111,
              "#46039f"
             ],
             [
              0.2222222222222222,
              "#7201a8"
             ],
             [
              0.3333333333333333,
              "#9c179e"
             ],
             [
              0.4444444444444444,
              "#bd3786"
             ],
             [
              0.5555555555555556,
              "#d8576b"
             ],
             [
              0.6666666666666666,
              "#ed7953"
             ],
             [
              0.7777777777777778,
              "#fb9f3a"
             ],
             [
              0.8888888888888888,
              "#fdca26"
             ],
             [
              1,
              "#f0f921"
             ]
            ],
            "type": "heatmapgl"
           }
          ],
          "histogram": [
           {
            "marker": {
             "pattern": {
              "fillmode": "overlay",
              "size": 10,
              "solidity": 0.2
             }
            },
            "type": "histogram"
           }
          ],
          "histogram2d": [
           {
            "colorbar": {
             "outlinewidth": 0,
             "ticks": ""
            },
            "colorscale": [
             [
              0,
              "#0d0887"
             ],
             [
              0.1111111111111111,
              "#46039f"
             ],
             [
              0.2222222222222222,
              "#7201a8"
             ],
             [
              0.3333333333333333,
              "#9c179e"
             ],
             [
              0.4444444444444444,
              "#bd3786"
             ],
             [
              0.5555555555555556,
              "#d8576b"
             ],
             [
              0.6666666666666666,
              "#ed7953"
             ],
             [
              0.7777777777777778,
              "#fb9f3a"
             ],
             [
              0.8888888888888888,
              "#fdca26"
             ],
             [
              1,
              "#f0f921"
             ]
            ],
            "type": "histogram2d"
           }
          ],
          "histogram2dcontour": [
           {
            "colorbar": {
             "outlinewidth": 0,
             "ticks": ""
            },
            "colorscale": [
             [
              0,
              "#0d0887"
             ],
             [
              0.1111111111111111,
              "#46039f"
             ],
             [
              0.2222222222222222,
              "#7201a8"
             ],
             [
              0.3333333333333333,
              "#9c179e"
             ],
             [
              0.4444444444444444,
              "#bd3786"
             ],
             [
              0.5555555555555556,
              "#d8576b"
             ],
             [
              0.6666666666666666,
              "#ed7953"
             ],
             [
              0.7777777777777778,
              "#fb9f3a"
             ],
             [
              0.8888888888888888,
              "#fdca26"
             ],
             [
              1,
              "#f0f921"
             ]
            ],
            "type": "histogram2dcontour"
           }
          ],
          "mesh3d": [
           {
            "colorbar": {
             "outlinewidth": 0,
             "ticks": ""
            },
            "type": "mesh3d"
           }
          ],
          "parcoords": [
           {
            "line": {
             "colorbar": {
              "outlinewidth": 0,
              "ticks": ""
             }
            },
            "type": "parcoords"
           }
          ],
          "pie": [
           {
            "automargin": true,
            "type": "pie"
           }
          ],
          "scatter": [
           {
            "fillpattern": {
             "fillmode": "overlay",
             "size": 10,
             "solidity": 0.2
            },
            "type": "scatter"
           }
          ],
          "scatter3d": [
           {
            "line": {
             "colorbar": {
              "outlinewidth": 0,
              "ticks": ""
             }
            },
            "marker": {
             "colorbar": {
              "outlinewidth": 0,
              "ticks": ""
             }
            },
            "type": "scatter3d"
           }
          ],
          "scattercarpet": [
           {
            "marker": {
             "colorbar": {
              "outlinewidth": 0,
              "ticks": ""
             }
            },
            "type": "scattercarpet"
           }
          ],
          "scattergeo": [
           {
            "marker": {
             "colorbar": {
              "outlinewidth": 0,
              "ticks": ""
             }
            },
            "type": "scattergeo"
           }
          ],
          "scattergl": [
           {
            "marker": {
             "colorbar": {
              "outlinewidth": 0,
              "ticks": ""
             }
            },
            "type": "scattergl"
           }
          ],
          "scattermapbox": [
           {
            "marker": {
             "colorbar": {
              "outlinewidth": 0,
              "ticks": ""
             }
            },
            "type": "scattermapbox"
           }
          ],
          "scatterpolar": [
           {
            "marker": {
             "colorbar": {
              "outlinewidth": 0,
              "ticks": ""
             }
            },
            "type": "scatterpolar"
           }
          ],
          "scatterpolargl": [
           {
            "marker": {
             "colorbar": {
              "outlinewidth": 0,
              "ticks": ""
             }
            },
            "type": "scatterpolargl"
           }
          ],
          "scatterternary": [
           {
            "marker": {
             "colorbar": {
              "outlinewidth": 0,
              "ticks": ""
             }
            },
            "type": "scatterternary"
           }
          ],
          "surface": [
           {
            "colorbar": {
             "outlinewidth": 0,
             "ticks": ""
            },
            "colorscale": [
             [
              0,
              "#0d0887"
             ],
             [
              0.1111111111111111,
              "#46039f"
             ],
             [
              0.2222222222222222,
              "#7201a8"
             ],
             [
              0.3333333333333333,
              "#9c179e"
             ],
             [
              0.4444444444444444,
              "#bd3786"
             ],
             [
              0.5555555555555556,
              "#d8576b"
             ],
             [
              0.6666666666666666,
              "#ed7953"
             ],
             [
              0.7777777777777778,
              "#fb9f3a"
             ],
             [
              0.8888888888888888,
              "#fdca26"
             ],
             [
              1,
              "#f0f921"
             ]
            ],
            "type": "surface"
           }
          ],
          "table": [
           {
            "cells": {
             "fill": {
              "color": "#EBF0F8"
             },
             "line": {
              "color": "white"
             }
            },
            "header": {
             "fill": {
              "color": "#C8D4E3"
             },
             "line": {
              "color": "white"
             }
            },
            "type": "table"
           }
          ]
         },
         "layout": {
          "annotationdefaults": {
           "arrowcolor": "#2a3f5f",
           "arrowhead": 0,
           "arrowwidth": 1
          },
          "autotypenumbers": "strict",
          "coloraxis": {
           "colorbar": {
            "outlinewidth": 0,
            "ticks": ""
           }
          },
          "colorscale": {
           "diverging": [
            [
             0,
             "#8e0152"
            ],
            [
             0.1,
             "#c51b7d"
            ],
            [
             0.2,
             "#de77ae"
            ],
            [
             0.3,
             "#f1b6da"
            ],
            [
             0.4,
             "#fde0ef"
            ],
            [
             0.5,
             "#f7f7f7"
            ],
            [
             0.6,
             "#e6f5d0"
            ],
            [
             0.7,
             "#b8e186"
            ],
            [
             0.8,
             "#7fbc41"
            ],
            [
             0.9,
             "#4d9221"
            ],
            [
             1,
             "#276419"
            ]
           ],
           "sequential": [
            [
             0,
             "#0d0887"
            ],
            [
             0.1111111111111111,
             "#46039f"
            ],
            [
             0.2222222222222222,
             "#7201a8"
            ],
            [
             0.3333333333333333,
             "#9c179e"
            ],
            [
             0.4444444444444444,
             "#bd3786"
            ],
            [
             0.5555555555555556,
             "#d8576b"
            ],
            [
             0.6666666666666666,
             "#ed7953"
            ],
            [
             0.7777777777777778,
             "#fb9f3a"
            ],
            [
             0.8888888888888888,
             "#fdca26"
            ],
            [
             1,
             "#f0f921"
            ]
           ],
           "sequentialminus": [
            [
             0,
             "#0d0887"
            ],
            [
             0.1111111111111111,
             "#46039f"
            ],
            [
             0.2222222222222222,
             "#7201a8"
            ],
            [
             0.3333333333333333,
             "#9c179e"
            ],
            [
             0.4444444444444444,
             "#bd3786"
            ],
            [
             0.5555555555555556,
             "#d8576b"
            ],
            [
             0.6666666666666666,
             "#ed7953"
            ],
            [
             0.7777777777777778,
             "#fb9f3a"
            ],
            [
             0.8888888888888888,
             "#fdca26"
            ],
            [
             1,
             "#f0f921"
            ]
           ]
          },
          "colorway": [
           "#636efa",
           "#EF553B",
           "#00cc96",
           "#ab63fa",
           "#FFA15A",
           "#19d3f3",
           "#FF6692",
           "#B6E880",
           "#FF97FF",
           "#FECB52"
          ],
          "font": {
           "color": "#2a3f5f"
          },
          "geo": {
           "bgcolor": "white",
           "lakecolor": "white",
           "landcolor": "#E5ECF6",
           "showlakes": true,
           "showland": true,
           "subunitcolor": "white"
          },
          "hoverlabel": {
           "align": "left"
          },
          "hovermode": "closest",
          "mapbox": {
           "style": "light"
          },
          "paper_bgcolor": "white",
          "plot_bgcolor": "#E5ECF6",
          "polar": {
           "angularaxis": {
            "gridcolor": "white",
            "linecolor": "white",
            "ticks": ""
           },
           "bgcolor": "#E5ECF6",
           "radialaxis": {
            "gridcolor": "white",
            "linecolor": "white",
            "ticks": ""
           }
          },
          "scene": {
           "xaxis": {
            "backgroundcolor": "#E5ECF6",
            "gridcolor": "white",
            "gridwidth": 2,
            "linecolor": "white",
            "showbackground": true,
            "ticks": "",
            "zerolinecolor": "white"
           },
           "yaxis": {
            "backgroundcolor": "#E5ECF6",
            "gridcolor": "white",
            "gridwidth": 2,
            "linecolor": "white",
            "showbackground": true,
            "ticks": "",
            "zerolinecolor": "white"
           },
           "zaxis": {
            "backgroundcolor": "#E5ECF6",
            "gridcolor": "white",
            "gridwidth": 2,
            "linecolor": "white",
            "showbackground": true,
            "ticks": "",
            "zerolinecolor": "white"
           }
          },
          "shapedefaults": {
           "line": {
            "color": "#2a3f5f"
           }
          },
          "ternary": {
           "aaxis": {
            "gridcolor": "white",
            "linecolor": "white",
            "ticks": ""
           },
           "baxis": {
            "gridcolor": "white",
            "linecolor": "white",
            "ticks": ""
           },
           "bgcolor": "#E5ECF6",
           "caxis": {
            "gridcolor": "white",
            "linecolor": "white",
            "ticks": ""
           }
          },
          "title": {
           "x": 0.05
          },
          "xaxis": {
           "automargin": true,
           "gridcolor": "white",
           "linecolor": "white",
           "ticks": "",
           "title": {
            "standoff": 15
           },
           "zerolinecolor": "white",
           "zerolinewidth": 2
          },
          "yaxis": {
           "automargin": true,
           "gridcolor": "white",
           "linecolor": "white",
           "ticks": "",
           "title": {
            "standoff": 15
           },
           "zerolinecolor": "white",
           "zerolinewidth": 2
          }
         }
        },
        "width": 20,
        "xaxis": {
         "anchor": "y",
         "domain": [
          0,
          1
         ]
        },
        "xaxis2": {
         "anchor": "y2",
         "domain": [
          0,
          1
         ]
        },
        "xaxis3": {
         "anchor": "y3",
         "domain": [
          0,
          1
         ]
        },
        "xaxis4": {
         "anchor": "y4",
         "domain": [
          0,
          1
         ]
        },
        "yaxis": {
         "anchor": "x",
         "domain": [
          0.84375,
          1
         ]
        },
        "yaxis2": {
         "anchor": "x2",
         "domain": [
          0.5625,
          0.71875
         ]
        },
        "yaxis3": {
         "anchor": "x3",
         "domain": [
          0.28125,
          0.4375
         ]
        },
        "yaxis4": {
         "anchor": "x4",
         "domain": [
          0,
          0.15625
         ]
        }
       }
      }
     },
     "metadata": {},
     "output_type": "display_data"
    }
   ],
   "source": [
    "from plotly.subplots import make_subplots\n",
    "\n",
    "fig = make_subplots(rows=4, cols=1,subplot_titles=(\"S1\", \"S2\", \"S3\", \"S4\"))\n",
    "\n",
    "for i in range(4):\n",
    "    temp_df = vehicle_data.loc[(vehicle_data['Size'] == s[i])]\n",
    "    fig.add_trace(go.Bar(\n",
    "        x=temp_df.loc[temp_df['Vehicle'] == 'BEV']['Year'],\n",
    "        y=temp_df.loc[temp_df['Vehicle'] == 'BEV']['Cost ($)'],\n",
    "        name='BEV'\n",
    "    ),i+1,1)\n",
    "    fig.add_trace(go.Bar(\n",
    "        x=temp_df.loc[temp_df['Vehicle'] == 'LNG']['Year'],\n",
    "        y=temp_df.loc[temp_df['Vehicle'] == 'LNG']['Cost ($)'],\n",
    "        name='LNG'\n",
    "    ),i+1,1)\n",
    "    fig.add_trace(go.Bar(\n",
    "        x=temp_df.loc[temp_df['Vehicle'] == 'Diesel']['Year'],\n",
    "        y=temp_df.loc[temp_df['Vehicle'] == 'Diesel']['Cost ($)'],\n",
    "        name='Diesel'\n",
    "    ),i+1,1)\n",
    "fig.show()\n",
    "\n",
    "fig.update_layout(height=10, width=20)"
   ]
  },
  {
   "cell_type": "code",
   "execution_count": null,
   "metadata": {},
   "outputs": [],
   "source": []
  }
 ],
 "metadata": {
  "kernelspec": {
   "display_name": "base",
   "language": "python",
   "name": "python3"
  },
  "language_info": {
   "codemirror_mode": {
    "name": "ipython",
    "version": 3
   },
   "file_extension": ".py",
   "mimetype": "text/x-python",
   "name": "python",
   "nbconvert_exporter": "python",
   "pygments_lexer": "ipython3",
   "version": "3.11.5"
  }
 },
 "nbformat": 4,
 "nbformat_minor": 2
}
