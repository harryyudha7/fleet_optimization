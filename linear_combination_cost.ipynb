{
 "cells": [
  {
   "cell_type": "code",
   "execution_count": 27,
   "metadata": {},
   "outputs": [],
   "source": [
    "import pandas as pd\n",
    "import numpy as np\n",
    "import matplotlib.pyplot as plt\n",
    "import random\n",
    "import warnings\n",
    "warnings.filterwarnings(\"ignore\")"
   ]
  },
  {
   "cell_type": "code",
   "execution_count": 28,
   "metadata": {},
   "outputs": [],
   "source": [
    "demand_data = pd.read_csv('data\\dataset\\demand.csv')\n",
    "vehicle_data = pd.read_csv('data/dataset/vehicles.csv')\n",
    "vehicle_fuels = pd.read_csv('data/dataset/vehicles_fuels.csv')\n",
    "fuels_data = pd.read_csv('data/dataset/fuels.csv')\n",
    "carbon_emissions_data = pd.read_csv('data/dataset/carbon_emissions.csv')\n",
    "cost_profiles = pd.read_csv('data/dataset/cost_profiles.csv')\n",
    "score = pd.read_csv('grading_file/score.csv')\n",
    "\n",
    "arr_expected_cost = []\n",
    "total_cost_buy = []\n",
    "total_cost_ins = []\n",
    "total_cost_mnt = []\n",
    "total_cost_fuel = []\n",
    "total_cost_sell = []"
   ]
  },
  {
   "cell_type": "code",
   "execution_count": 29,
   "metadata": {},
   "outputs": [],
   "source": [
    "for i in range(1,10):\n",
    "    filename = 'grading_file/submission_%i.csv' %i\n",
    "    df_submission = pd.read_csv(filename)\n",
    "    unique_year = np.unique(df_submission['Year'])\n",
    "\n",
    "    expected_cost = score['server'].iloc[i-1]\n",
    "    expected_cost = (100 - expected_cost)*65000000/70\n",
    "    arr_expected_cost.append(expected_cost)\n",
    "\n",
    "    df_fleet = {'ID':[],\n",
    "                'qty': []}\n",
    "\n",
    "    dict_cost_buy = {}\n",
    "    dict_cost_ins = {}\n",
    "    dict_cost_mnt = {}\n",
    "    dict_cost_fuel = {}\n",
    "    dict_cost_sell = {}\n",
    "    dict_fleet = {}\n",
    "    for i in unique_year:\n",
    "        dict_cost_buy[i] = 0\n",
    "        dict_cost_ins[i] = 0\n",
    "        dict_cost_mnt[i] = 0\n",
    "        dict_cost_fuel[i] = 0\n",
    "        dict_cost_sell[i] = 0\n",
    "        dict_fleet[i] = {}\n",
    "\n",
    "    for i in range(len(df_submission)):\n",
    "        use_type = df_submission['Type'].iloc[i]\n",
    "        year = df_submission['Year'].iloc[i]\n",
    "        qty = df_submission['Num_Vehicles'].iloc[i]\n",
    "        veh_id = df_submission['ID'].iloc[i]\n",
    "        dist = df_submission['Distance_per_vehicle(km)'].iloc[i]\n",
    "        fuel = df_submission['Fuel'].iloc[i]\n",
    "        \n",
    "        if use_type == 'Buy':\n",
    "            df_fleet['ID'].append(veh_id)\n",
    "            df_fleet['qty'].append(qty)\n",
    "\n",
    "            cost_buy = vehicle_data.loc[vehicle_data['ID'] == veh_id]\n",
    "            cost_buy = cost_buy['Cost ($)'].iloc[0]\n",
    "            dict_cost_buy[year] = dict_cost_buy[year] + cost_buy*qty\n",
    "            if i < len(df_submission)-1:\n",
    "                use_type_next = df_submission['Type'].iloc[i+1]\n",
    "                if (use_type_next == 'Use') & (use_type == 'Buy'):\n",
    "                    dict_fleet[year]['ID'] = df_fleet['ID'].copy()\n",
    "                    dict_fleet[year]['qty'] = df_fleet['qty'].copy()\n",
    "            \n",
    "        elif use_type == 'Sell':\n",
    "            temp_list = np.array(df_fleet['ID'])\n",
    "            idx = np.where(temp_list == veh_id)\n",
    "            idx = idx[0][0]\n",
    "            df_fleet['qty'][idx] = df_fleet['qty'][idx] - qty\n",
    "            if df_fleet['qty'][idx] == 0:\n",
    "                del df_fleet['qty'][idx]\n",
    "                del df_fleet['ID'][idx]\n",
    "            year_buy = veh_id.split('_')\n",
    "            year_buy = int(year_buy[-1])\n",
    "            delta_year = year - year_buy + 1\n",
    "            temp_df = cost_profiles.loc[cost_profiles['End of Year'] == delta_year]\n",
    "            pct_resale = temp_df['Resale Value %'].iloc[0]/100\n",
    "            cost_buy = vehicle_data.loc[vehicle_data['ID'] == veh_id]\n",
    "            cost_buy = cost_buy['Cost ($)'].iloc[0]\n",
    "            cost_sell = pct_resale*cost_buy\n",
    "            dict_cost_sell[year] = dict_cost_sell[year] + cost_sell*qty\n",
    "        \n",
    "        else:\n",
    "            #cost fuel\n",
    "            temp_df = vehicle_fuels.loc[vehicle_fuels['ID'] == veh_id]\n",
    "            consumption_unit = temp_df.loc[(temp_df['Fuel'] == fuel)]\n",
    "            consumption_unit = consumption_unit['Consumption (unit_fuel/km)'].iloc[0]\n",
    "            cost_per_fuel = fuels_data.loc[(fuels_data['Fuel'] == fuel) & (fuels_data['Year'] == year)]\n",
    "            cost_per_fuel = cost_per_fuel['Cost ($/unit_fuel)'].iloc[0]\n",
    "            dict_cost_fuel[year] = dict_cost_fuel[year] + consumption_unit*cost_per_fuel*dist*qty\n",
    "    #cost mnt and ins\n",
    "    for i in unique_year:\n",
    "        temp_df = dict_fleet[i]\n",
    "        for j in range(len(temp_df['ID'])):\n",
    "            veh = temp_df['ID'][j]\n",
    "            qty = temp_df['qty'][j]\n",
    "            year_buy = veh.split('_')\n",
    "            year_buy = int(year_buy[-1])\n",
    "            delta_year = i - year_buy + 1\n",
    "            temp_df2 = cost_profiles.loc[cost_profiles['End of Year'] <= delta_year]\n",
    "            pct_ins = temp_df2['Insurance Cost %'].iloc[-1]/100\n",
    "            pct_mnt = temp_df2['Maintenance Cost %'].iloc[-1]/100\n",
    "\n",
    "            cost_buy = vehicle_data.loc[vehicle_data['ID'] == veh]\n",
    "            cost_buy = cost_buy['Cost ($)'].iloc[0]\n",
    "\n",
    "            dict_cost_ins[i] = dict_cost_ins[i] + pct_ins*cost_buy*qty\n",
    "            dict_cost_mnt[i] = dict_cost_mnt[i] + pct_mnt*cost_buy*qty\n",
    "        \n",
    "    new_arr_cost_buy= [i for i in dict_cost_buy.values()]\n",
    "    new_arr_cost_ins = [i for i in dict_cost_ins.values()]\n",
    "    new_arr_cost_mnt = [i for i in dict_cost_mnt.values()]\n",
    "    new_arr_cost_fuel = [i for i in dict_cost_fuel.values()]\n",
    "    new_arr_cost_sell = [i for i in dict_cost_sell.values()]\n",
    "\n",
    "    total_cost_buy.append(sum(new_arr_cost_buy[:6]))\n",
    "    total_cost_ins.append(sum(new_arr_cost_ins[:6]))\n",
    "    total_cost_mnt.append(sum(new_arr_cost_mnt[:6]))\n",
    "    total_cost_fuel.append(sum(new_arr_cost_fuel[:6]))\n",
    "    total_cost_sell.append(sum(new_arr_cost_sell[:6]))"
   ]
  },
  {
   "cell_type": "code",
   "execution_count": 30,
   "metadata": {},
   "outputs": [],
   "source": [
    "from sklearn.linear_model import LinearRegression\n",
    "\n",
    "X = np.array([total_cost_buy, total_cost_ins,total_cost_mnt,total_cost_fuel,total_cost_sell])\n",
    "X = np.transpose(X)\n",
    "\n",
    "y = np.array(arr_expected_cost)"
   ]
  },
  {
   "cell_type": "code",
   "execution_count": 31,
   "metadata": {},
   "outputs": [],
   "source": [
    "reg = LinearRegression(fit_intercept=False).fit(X, y)"
   ]
  },
  {
   "cell_type": "code",
   "execution_count": 32,
   "metadata": {},
   "outputs": [
    {
     "data": {
      "text/plain": [
       "0.9999992869161712"
      ]
     },
     "execution_count": 32,
     "metadata": {},
     "output_type": "execute_result"
    }
   ],
   "source": [
    "reg.score(X, y)"
   ]
  },
  {
   "cell_type": "code",
   "execution_count": 33,
   "metadata": {},
   "outputs": [],
   "source": [
    "coef = reg.coef_"
   ]
  },
  {
   "cell_type": "code",
   "execution_count": 34,
   "metadata": {},
   "outputs": [
    {
     "data": {
      "text/plain": [
       "54441643.33563588"
      ]
     },
     "execution_count": 34,
     "metadata": {},
     "output_type": "execute_result"
    }
   ],
   "source": [
    "coef[0]*total_cost_buy[0] + coef[1]*total_cost_ins[0] + coef[2]*total_cost_mnt[0] + coef[3]*total_cost_fuel[0] + coef[4]*total_cost_sell[0] + reg.intercept_"
   ]
  },
  {
   "cell_type": "code",
   "execution_count": 39,
   "metadata": {},
   "outputs": [
    {
     "data": {
      "text/plain": [
       "array([ 4.51451197e-04,  3.22017751e+00, -1.09844901e-01,  1.00008622e+00,\n",
       "       -3.96969868e-04])"
      ]
     },
     "execution_count": 39,
     "metadata": {},
     "output_type": "execute_result"
    }
   ],
   "source": [
    "reg.coef_"
   ]
  },
  {
   "cell_type": "code",
   "execution_count": 36,
   "metadata": {},
   "outputs": [
    {
     "data": {
      "text/plain": [
       "array([54441643.33563588, 53027019.33785003, 52043095.33524448,\n",
       "       52046588.77442967, 52029599.79243752, 55983363.32912669,\n",
       "       52483386.94908456, 52478735.832267  , 52013892.85337631])"
      ]
     },
     "execution_count": 36,
     "metadata": {},
     "output_type": "execute_result"
    }
   ],
   "source": [
    "reg.predict(X)"
   ]
  },
  {
   "cell_type": "code",
   "execution_count": 38,
   "metadata": {},
   "outputs": [
    {
     "data": {
      "text/plain": [
       "array([54441130.71428572, 53028355.71428572, 52041711.42857143,\n",
       "       52046632.85714286, 52028321.42857143, 55983413.57142857,\n",
       "       52482522.85714286, 52479291.42857143, 52015943.57142857])"
      ]
     },
     "execution_count": 38,
     "metadata": {},
     "output_type": "execute_result"
    }
   ],
   "source": [
    "y"
   ]
  },
  {
   "cell_type": "code",
   "execution_count": null,
   "metadata": {},
   "outputs": [],
   "source": []
  }
 ],
 "metadata": {
  "kernelspec": {
   "display_name": "base",
   "language": "python",
   "name": "python3"
  },
  "language_info": {
   "codemirror_mode": {
    "name": "ipython",
    "version": 3
   },
   "file_extension": ".py",
   "mimetype": "text/x-python",
   "name": "python",
   "nbconvert_exporter": "python",
   "pygments_lexer": "ipython3",
   "version": "3.11.5"
  }
 },
 "nbformat": 4,
 "nbformat_minor": 2
}
