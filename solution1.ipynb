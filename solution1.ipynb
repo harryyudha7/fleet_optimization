{
 "cells": [
  {
   "cell_type": "code",
   "execution_count": 1,
   "metadata": {},
   "outputs": [],
   "source": [
    "import pandas as pd\n",
    "import numpy as np\n",
    "import matplotlib.pyplot as plt\n",
    "import random"
   ]
  },
  {
   "cell_type": "code",
   "execution_count": 2,
   "metadata": {},
   "outputs": [],
   "source": [
    "demand_data = pd.read_csv('data\\dataset\\demand.csv')\n",
    "vehicle_data = pd.read_csv('vehicle_data_edit.csv')\n",
    "vehicle_fuels = pd.read_csv('data/dataset/vehicles_fuels.csv')\n",
    "fuels_data = pd.read_csv('data/dataset/fuels.csv')\n",
    "carbon_emissions_data = pd.read_csv('data/dataset/carbon_emissions.csv')\n",
    "cost_profiles = pd.read_csv('data/dataset/cost_profiles.csv')"
   ]
  },
  {
   "cell_type": "code",
   "execution_count": 13,
   "metadata": {},
   "outputs": [],
   "source": [
    "avail_vehicle = {'ID': [],\n",
    "                 'distance': []}"
   ]
  },
  {
   "cell_type": "code",
   "execution_count": 14,
   "metadata": {},
   "outputs": [],
   "source": [
    "\n",
    "buy = {}\n",
    "use = {}\n",
    "sell = {}"
   ]
  },
  {
   "cell_type": "code",
   "execution_count": 15,
   "metadata": {},
   "outputs": [],
   "source": [
    "def feasible_vehicle(yr, s,d):\n",
    "    temp_df = vehicle_data.loc[(vehicle_data['Year'] == yr) & (vehicle_data['Size'] == s)]\n",
    "    if d == 'D2':\n",
    "        temp_df = temp_df.loc[temp_df['Distance'] != 'D1']\n",
    "    elif d == 'D3':\n",
    "        temp_df = temp_df.loc[(temp_df['Distance'] == 'D3') | (temp_df['Distance'] == 'D4')]\n",
    "    elif d == 'D4':\n",
    "        temp_df = temp_df.loc[(temp_df['Distance'] == 'D4')]\n",
    "    return temp_df\n",
    "\n",
    "def decide_vehicle(feas_veh, prob):\n",
    "    rand = random.random()\n",
    "    for i in range(len(prob)):\n",
    "        if rand < sum(prob[:i+1]):\n",
    "            return feas_veh.iloc[i]\n",
    "        \n",
    "def feasible_from_avail_vehicle(avail_vehicle, feas_veh):\n",
    "    new_feas_vehicle = []\n",
    "    arr_distance = []\n",
    "    for k in range(len(avail_vehicle['ID'])):\n",
    "        i = avail_vehicle['ID'][k]\n",
    "        if i in feas_veh['ID'].tolist():\n",
    "            new_feas_vehicle.append(i)\n",
    "            arr_distance.append(avail_vehicle['distance'][k])\n",
    "    return {'ID': new_feas_vehicle, 'distance': arr_distance}\n",
    "\n",
    "def sort_vehicle(vehicle_dict):\n",
    "    list_BEV = []\n",
    "    list_BEV_dist = []\n",
    "    list_LNG = []\n",
    "    list_LNG_dist = []\n",
    "    list_diesel = []\n",
    "    list_diesel_dist = []\n",
    "    n = len(vehicle_dict['ID'])\n",
    "    for k in range(n):\n",
    "        i = vehicle_dict['ID'][0]\n",
    "        temp = i.split('_')\n",
    "        if temp[0] == 'BEV':\n",
    "            list_BEV.append(i)\n",
    "            list_BEV_dist.append(vehicle_dict['distance'][0])\n",
    "        elif temp[0] == 'LNG':\n",
    "            list_LNG.append(i)\n",
    "            list_LNG_dist.append(vehicle_dict['distance'][0])\n",
    "        else:\n",
    "            list_diesel.append(i)\n",
    "            list_diesel_dist.append(vehicle_dict['distance'][0])\n",
    "        del vehicle_dict['ID'][0]\n",
    "        del vehicle_dict['distance'][0]\n",
    "\n",
    "    return {'ID': list_BEV + list_LNG + list_diesel, 'distance': list_BEV_dist + list_LNG_dist + list_diesel_dist}\n",
    "\n",
    "# def carbon_capture():"
   ]
  },
  {
   "cell_type": "code",
   "execution_count": 16,
   "metadata": {},
   "outputs": [],
   "source": [
    "unique_year = np.unique(demand_data['Year'])\n",
    "s = np.unique(demand_data['Size'])\n",
    "d = np.unique(demand_data['Distance'])"
   ]
  },
  {
   "cell_type": "code",
   "execution_count": 17,
   "metadata": {},
   "outputs": [
    {
     "name": "stderr",
     "output_type": "stream",
     "text": [
      "C:\\Users\\asus\\AppData\\Local\\Temp\\ipykernel_13040\\1389255454.py:17: SettingWithCopyWarning: \n",
      "A value is trying to be set on a copy of a slice from a DataFrame.\n",
      "Try using .loc[row_indexer,col_indexer] = value instead\n",
      "\n",
      "See the caveats in the documentation: https://pandas.pydata.org/pandas-docs/stable/user_guide/indexing.html#returning-a-view-versus-a-copy\n",
      "  feas_veh['yearly_cost'] = yearly_cost\n",
      "C:\\Users\\asus\\AppData\\Local\\Temp\\ipykernel_13040\\1389255454.py:17: SettingWithCopyWarning: \n",
      "A value is trying to be set on a copy of a slice from a DataFrame.\n",
      "Try using .loc[row_indexer,col_indexer] = value instead\n",
      "\n",
      "See the caveats in the documentation: https://pandas.pydata.org/pandas-docs/stable/user_guide/indexing.html#returning-a-view-versus-a-copy\n",
      "  feas_veh['yearly_cost'] = yearly_cost\n",
      "C:\\Users\\asus\\AppData\\Local\\Temp\\ipykernel_13040\\1389255454.py:17: SettingWithCopyWarning: \n",
      "A value is trying to be set on a copy of a slice from a DataFrame.\n",
      "Try using .loc[row_indexer,col_indexer] = value instead\n",
      "\n",
      "See the caveats in the documentation: https://pandas.pydata.org/pandas-docs/stable/user_guide/indexing.html#returning-a-view-versus-a-copy\n",
      "  feas_veh['yearly_cost'] = yearly_cost\n",
      "C:\\Users\\asus\\AppData\\Local\\Temp\\ipykernel_13040\\1389255454.py:17: SettingWithCopyWarning: \n",
      "A value is trying to be set on a copy of a slice from a DataFrame.\n",
      "Try using .loc[row_indexer,col_indexer] = value instead\n",
      "\n",
      "See the caveats in the documentation: https://pandas.pydata.org/pandas-docs/stable/user_guide/indexing.html#returning-a-view-versus-a-copy\n",
      "  feas_veh['yearly_cost'] = yearly_cost\n"
     ]
    }
   ],
   "source": [
    "#initial\n",
    "year = 2023\n",
    "init_demand = demand_data.loc[demand_data['Year'] == year]\n",
    "buy[year] = {'ID': [],\n",
    "             'distance': []}\n",
    "demand_avail_dict = {}\n",
    "demand_dict = {}\n",
    "for i in range(len(s)):\n",
    "    demand_dict[s[i]] = {}\n",
    "    demand_avail_dict[s[i]] = {}\n",
    "    demand_avail = 0\n",
    "    for j in range(len(d)-1,-1,-1):\n",
    "        demand = init_demand['Demand (km)'].loc[(init_demand['Size'] == s[i]) & (init_demand['Distance'] == d[j])].iloc[0]\n",
    "        demand_dict[s[i]][d[j]] = demand\n",
    "        feas_veh = feasible_vehicle(year,s[i],d[j])\n",
    "        yearly_cost = 0.12*feas_veh['Cost ($)'] + feas_veh['fuel_cost']\n",
    "        feas_veh['yearly_cost'] = yearly_cost\n",
    "        inv = 1/feas_veh['yearly_cost']\n",
    "        inv[inv.idxmax()] = inv[inv.idxmax()]*4\n",
    "        prob = (inv/sum(inv)).values\n",
    "        while demand_avail < demand:\n",
    "            temp_df_decide = decide_vehicle(feas_veh, prob)\n",
    "            buy[year]['ID'].append(temp_df_decide['ID'])\n",
    "            buy[year]['distance'].append(temp_df_decide['Yearly range (km)'])\n",
    "            demand_avail = demand_avail + temp_df_decide['Yearly range (km)']\n",
    "        demand_avail_dict[s[i]][d[j]] = demand_avail\n",
    "        demand_avail = demand_avail - demand"
   ]
  },
  {
   "cell_type": "code",
   "execution_count": 18,
   "metadata": {},
   "outputs": [
    {
     "data": {
      "text/plain": [
       "{'S1': {'D4': 414315, 'D3': 3292011, 'D2': 2597094, 'D1': 869181},\n",
       " 'S2': {'D4': 133677, 'D3': 778008, 'D2': 1383196, 'D1': 995694},\n",
       " 'S3': {'D4': 205426, 'D3': 1002466, 'D2': 2431901, 'D1': 2183475},\n",
       " 'S4': {'D4': 1809, 'D3': 118899, 'D2': 754717, 'D1': 14576}}"
      ]
     },
     "execution_count": 18,
     "metadata": {},
     "output_type": "execute_result"
    }
   ],
   "source": [
    "demand_dict"
   ]
  },
  {
   "cell_type": "code",
   "execution_count": 19,
   "metadata": {},
   "outputs": [],
   "source": [
    "avail_vehicle['ID'] = avail_vehicle['ID'] + buy[2023]['ID']"
   ]
  },
  {
   "cell_type": "code",
   "execution_count": 20,
   "metadata": {},
   "outputs": [],
   "source": [
    "avail_vehicle['distance'] = avail_vehicle['distance'] + buy[2023]['distance']"
   ]
  },
  {
   "cell_type": "code",
   "execution_count": 22,
   "metadata": {},
   "outputs": [],
   "source": [
    "use[2023] = {'ID': [],\n",
    "             'size': [],\n",
    "             'distance_bucket': [],\n",
    "             'distance': []\n",
    "             }\n",
    "for i in range(len(s)):\n",
    "    for j in range(len(d)-1,-1,-1):\n",
    "        demand = init_demand['Demand (km)'].loc[(init_demand['Size'] == s[i]) & (init_demand['Distance'] == d[j])].iloc[0]\n",
    "        feas_veh = feasible_vehicle(year,s[i],d[j])\n",
    "        demand_satisfied = 0\n",
    "        while demand - demand_satisfied != 0:\n",
    "            new_feas_vehicle = feasible_from_avail_vehicle(avail_vehicle,feas_veh)\n",
    "            sorted_feas_vehicle = sort_vehicle(new_feas_vehicle)\n",
    "            veh = sorted_feas_vehicle['ID'][0]\n",
    "            temp_df = feas_veh.loc[feas_veh['ID'] == veh]\n",
    "            dist = min([demand - demand_satisfied,sorted_feas_vehicle['distance'][0]])\n",
    "            demand_satisfied = demand_satisfied + dist\n",
    "            use[year]['ID'].append(veh)\n",
    "            use[year]['size'].append(s[i])\n",
    "            use[year]['distance_bucket'].append(d[j])\n",
    "            use[year]['distance'].append(dist)\n",
    "\n",
    "            idx = avail_vehicle['ID'].index(veh)\n",
    "            temp_list = [0 for i in range(len(avail_vehicle['distance']))]\n",
    "            temp_list[idx] = dist\n",
    "\n",
    "            avail_vehicle['distance'] = np.array(avail_vehicle['distance']) - np.array(temp_list)\n",
    "            is_zero = np.argwhere(abs(avail_vehicle['distance']) <= 0.01).tolist()\n",
    "            if len(is_zero) == 0:\n",
    "                avail_vehicle['distance'] = avail_vehicle['distance'].tolist()\n",
    "            else:\n",
    "                avail_vehicle['distance'] = avail_vehicle['distance'].tolist()\n",
    "                del avail_vehicle['ID'][is_zero[0][0]]\n",
    "                del avail_vehicle['distance'][is_zero[0][0]]"
   ]
  },
  {
   "cell_type": "code",
   "execution_count": 27,
   "metadata": {},
   "outputs": [],
   "source": [
    "df_use = pd.DataFrame(use[2023])"
   ]
  },
  {
   "cell_type": "code",
   "execution_count": 31,
   "metadata": {},
   "outputs": [
    {
     "data": {
      "text/plain": [
       "2183475"
      ]
     },
     "execution_count": 31,
     "metadata": {},
     "output_type": "execute_result"
    }
   ],
   "source": [
    "sum(df_use.loc[(df_use['size'] == 'S3') & (df_use['distance_bucket'] == 'D1')]['distance'])"
   ]
  },
  {
   "cell_type": "code",
   "execution_count": 134,
   "metadata": {},
   "outputs": [
    {
     "data": {
      "text/plain": [
       "186"
      ]
     },
     "execution_count": 134,
     "metadata": {},
     "output_type": "execute_result"
    }
   ],
   "source": [
    "len(avail_vehicle['ID'])"
   ]
  },
  {
   "cell_type": "code",
   "execution_count": 133,
   "metadata": {},
   "outputs": [
    {
     "data": {
      "text/html": [
       "<div>\n",
       "<style scoped>\n",
       "    .dataframe tbody tr th:only-of-type {\n",
       "        vertical-align: middle;\n",
       "    }\n",
       "\n",
       "    .dataframe tbody tr th {\n",
       "        vertical-align: top;\n",
       "    }\n",
       "\n",
       "    .dataframe thead th {\n",
       "        text-align: right;\n",
       "    }\n",
       "</style>\n",
       "<table border=\"1\" class=\"dataframe\">\n",
       "  <thead>\n",
       "    <tr style=\"text-align: right;\">\n",
       "      <th></th>\n",
       "      <th>Unnamed: 0</th>\n",
       "      <th>ID</th>\n",
       "      <th>Vehicle</th>\n",
       "      <th>Size</th>\n",
       "      <th>Year</th>\n",
       "      <th>Cost ($)</th>\n",
       "      <th>Yearly range (km)</th>\n",
       "      <th>Distance</th>\n",
       "      <th>fuel</th>\n",
       "      <th>fuel_cost</th>\n",
       "      <th>total_cost</th>\n",
       "    </tr>\n",
       "  </thead>\n",
       "  <tbody>\n",
       "    <tr>\n",
       "      <th>0</th>\n",
       "      <td>0</td>\n",
       "      <td>BEV_S1_2023</td>\n",
       "      <td>BEV</td>\n",
       "      <td>S1</td>\n",
       "      <td>2023</td>\n",
       "      <td>187000</td>\n",
       "      <td>102000</td>\n",
       "      <td>D1</td>\n",
       "      <td>Electricity</td>\n",
       "      <td>13088.52137</td>\n",
       "      <td>31788.52137</td>\n",
       "    </tr>\n",
       "    <tr>\n",
       "      <th>64</th>\n",
       "      <td>64</td>\n",
       "      <td>Diesel_S1_2023</td>\n",
       "      <td>Diesel</td>\n",
       "      <td>S1</td>\n",
       "      <td>2023</td>\n",
       "      <td>85000</td>\n",
       "      <td>102000</td>\n",
       "      <td>D4</td>\n",
       "      <td>B20</td>\n",
       "      <td>32671.05472</td>\n",
       "      <td>41171.05472</td>\n",
       "    </tr>\n",
       "    <tr>\n",
       "      <th>128</th>\n",
       "      <td>128</td>\n",
       "      <td>LNG_S1_2023</td>\n",
       "      <td>LNG</td>\n",
       "      <td>S1</td>\n",
       "      <td>2023</td>\n",
       "      <td>100000</td>\n",
       "      <td>102000</td>\n",
       "      <td>D4</td>\n",
       "      <td>LNG</td>\n",
       "      <td>16349.55384</td>\n",
       "      <td>26349.55384</td>\n",
       "    </tr>\n",
       "  </tbody>\n",
       "</table>\n",
       "</div>"
      ],
      "text/plain": [
       "     Unnamed: 0              ID Vehicle Size  Year  Cost ($)  \\\n",
       "0             0     BEV_S1_2023     BEV   S1  2023    187000   \n",
       "64           64  Diesel_S1_2023  Diesel   S1  2023     85000   \n",
       "128         128     LNG_S1_2023     LNG   S1  2023    100000   \n",
       "\n",
       "     Yearly range (km) Distance         fuel    fuel_cost   total_cost  \n",
       "0               102000       D1  Electricity  13088.52137  31788.52137  \n",
       "64              102000       D4          B20  32671.05472  41171.05472  \n",
       "128             102000       D4          LNG  16349.55384  26349.55384  "
      ]
     },
     "execution_count": 133,
     "metadata": {},
     "output_type": "execute_result"
    }
   ],
   "source": [
    "feas_veh"
   ]
  },
  {
   "cell_type": "code",
   "execution_count": 86,
   "metadata": {},
   "outputs": [
    {
     "data": {
      "text/plain": [
       "32        BEV_S4_2023\n",
       "96     Diesel_S4_2023\n",
       "160       LNG_S4_2023\n",
       "Name: ID, dtype: object"
      ]
     },
     "execution_count": 86,
     "metadata": {},
     "output_type": "execute_result"
    }
   ],
   "source": [
    "feas_veh['ID'].iloc[:]"
   ]
  },
  {
   "cell_type": "code",
   "execution_count": null,
   "metadata": {},
   "outputs": [],
   "source": []
  }
 ],
 "metadata": {
  "kernelspec": {
   "display_name": "base",
   "language": "python",
   "name": "python3"
  },
  "language_info": {
   "codemirror_mode": {
    "name": "ipython",
    "version": 3
   },
   "file_extension": ".py",
   "mimetype": "text/x-python",
   "name": "python",
   "nbconvert_exporter": "python",
   "pygments_lexer": "ipython3",
   "version": "3.11.5"
  }
 },
 "nbformat": 4,
 "nbformat_minor": 2
}
