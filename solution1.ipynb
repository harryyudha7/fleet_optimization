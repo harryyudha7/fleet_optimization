{
 "cells": [
  {
   "cell_type": "code",
   "execution_count": 1,
   "metadata": {},
   "outputs": [],
   "source": [
    "import pandas as pd\n",
    "import numpy as np\n",
    "import matplotlib.pyplot as plt"
   ]
  },
  {
   "cell_type": "code",
   "execution_count": 2,
   "metadata": {},
   "outputs": [],
   "source": [
    "demand_data = pd.read_csv('data\\dataset\\demand.csv')\n",
    "vehicle_data = pd.read_csv('data/dataset/vehicles.csv')\n",
    "vehicle_fuels = pd.read_csv('data/dataset/vehicles_fuels.csv')\n",
    "fuels_data = pd.read_csv('data/dataset/fuels.csv')\n",
    "carbon_emissions_data = pd.read_csv('data/dataset/carbon_emissions.csv')\n",
    "cost_profiles = pd.read_csv('data/dataset/cost_profiles.csv')"
   ]
  },
  {
   "cell_type": "code",
   "execution_count": 3,
   "metadata": {},
   "outputs": [],
   "source": [
    "avail_vehicle = {}\n",
    "buy = {}\n",
    "use = {}\n",
    "sell = {}"
   ]
  },
  {
   "cell_type": "code",
   "execution_count": 4,
   "metadata": {},
   "outputs": [],
   "source": [
    "def feasible_vehicle(yr, s,d):\n",
    "    temp_df = vehicle_data.loc[(vehicle_data['Year'] == yr) & (vehicle_data['Size'] == s)]\n",
    "    if d == 'D2':\n",
    "        temp_df = temp_df.loc[temp_df['Distance'] != 'D1']\n",
    "    elif d == 'D3':\n",
    "        temp_df = temp_df.loc[(temp_df['Distance'] == 'D3') | (temp_df['Distance'] == 'D4')]\n",
    "    elif d == 'D4':\n",
    "        temp_df = temp_df.loc[(temp_df['Distance'] == 'D4')]\n",
    "    return temp_df"
   ]
  },
  {
   "cell_type": "code",
   "execution_count": 5,
   "metadata": {},
   "outputs": [],
   "source": [
    "unique_year = np.unique(demand_data['Year'])\n",
    "s = np.unique(demand_data['Size'])\n",
    "d = np.unique(demand_data['Distance'])"
   ]
  },
  {
   "cell_type": "code",
   "execution_count": 6,
   "metadata": {},
   "outputs": [],
   "source": [
    "#initial\n",
    "year = 2023\n",
    "init_demand = demand_data.loc[demand_data['Year'] == year]\n",
    "for i in range(len(s)):\n",
    "    for j in range(len(d)-1,-1,-1):\n",
    "        demand = init_demand['Demand (km)'].loc[(init_demand['Size'] == s[i]) & (init_demand['Distance'] == d[j])].iloc[0]\n",
    "        feas_veh = feasible_vehicle(year,s[i],d[j])"
   ]
  },
  {
   "cell_type": "code",
   "execution_count": 9,
   "metadata": {},
   "outputs": [
    {
     "data": {
      "text/plain": [
       "14576"
      ]
     },
     "execution_count": 9,
     "metadata": {},
     "output_type": "execute_result"
    }
   ],
   "source": [
    "demand"
   ]
  },
  {
   "cell_type": "code",
   "execution_count": null,
   "metadata": {},
   "outputs": [],
   "source": []
  }
 ],
 "metadata": {
  "kernelspec": {
   "display_name": "base",
   "language": "python",
   "name": "python3"
  },
  "language_info": {
   "codemirror_mode": {
    "name": "ipython",
    "version": 3
   },
   "file_extension": ".py",
   "mimetype": "text/x-python",
   "name": "python",
   "nbconvert_exporter": "python",
   "pygments_lexer": "ipython3",
   "version": "3.11.5"
  }
 },
 "nbformat": 4,
 "nbformat_minor": 2
}
